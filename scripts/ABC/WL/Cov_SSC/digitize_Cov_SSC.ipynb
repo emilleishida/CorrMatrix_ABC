{
 "cells": [
  {
   "cell_type": "markdown",
   "metadata": {},
   "source": [
    "# Digitize image of SSC covariance"
   ]
  },
  {
   "cell_type": "markdown",
   "metadata": {},
   "source": [
    "Reference: Barreira, Krause & Schmidt, http://arxiv.org/abs1711.07467"
   ]
  },
  {
   "cell_type": "code",
   "execution_count": 1,
   "metadata": {},
   "outputs": [
    {
     "name": "stdout",
     "output_type": "stream",
     "text": [
      "3.6.8\n"
     ]
    }
   ],
   "source": [
    "from platform import python_version\n",
    "print(python_version())"
   ]
  },
  {
   "cell_type": "code",
   "execution_count": 8,
   "metadata": {},
   "outputs": [
    {
     "data": {
      "text/plain": [
       "['/Users/mkilbing/anaconda3/envs/shapepipe/lib/python3.6/site-packages',\n",
       " '/Users/mkilbing/anaconda3/envs/shapepipe/lib/python3.6/site-packages',\n",
       " '/Users/mkilbing/anaconda3/envs/shapepipe/lib/python3.6/site-packages',\n",
       " '',\n",
       " '/Users/mkilbing/anaconda3/lib/python36.zip',\n",
       " '/Users/mkilbing/anaconda3/lib/python3.6',\n",
       " '/Users/mkilbing/anaconda3/lib/python3.6/lib-dynload',\n",
       " '/Users/mkilbing/.local/lib/python3.6/site-packages',\n",
       " '/Users/mkilbing/.local/lib/python3.6/site-packages/shapepipe-0.0.1-py3.6.egg',\n",
       " '/Users/mkilbing/anaconda3/lib/python3.6/site-packages',\n",
       " '/Users/mkilbing/anaconda3/lib/python3.6/site-packages/aeosa',\n",
       " '/Users/mkilbing/anaconda3/lib/python3.6/site-packages/shapepipe-0.0.1-py3.6.egg',\n",
       " '/Users/mkilbing/anaconda3/lib/python3.6/site-packages/sf_tools-2.0.0-py3.6.egg',\n",
       " '/Users/mkilbing/anaconda3/lib/python3.6/site-packages/IPython/extensions',\n",
       " '/Users/mkilbing/.ipython']"
      ]
     },
     "execution_count": 8,
     "metadata": {},
     "output_type": "execute_result"
    }
   ],
   "source": [
    "# Note for Mac Book Pro: cv2 installed in shapepipe conda env, path is somehow\n",
    "# not loaded automatically.\n",
    "import os, sys\n",
    "sys.path.insert(0, '/Users/mkilbing/anaconda3/envs/shapepipe/lib/python3.6/site-packages')\n",
    "os.sys.path"
   ]
  },
  {
   "cell_type": "code",
   "execution_count": 9,
   "metadata": {},
   "outputs": [],
   "source": [
    "# cv2 module: pip install opencv-python\n",
    "import cv2\n",
    "from scipy import interpolate\n",
    "import pylab as plt\n",
    "from matplotlib import cm\n",
    "import numpy as np\n",
    "%matplotlib inline"
   ]
  },
  {
   "cell_type": "raw",
   "metadata": {},
   "source": [
    "Read image"
   ]
  },
  {
   "cell_type": "code",
   "execution_count": 10,
   "metadata": {},
   "outputs": [],
   "source": [
    "dat = cv2.imread('fig_cov_l1l2_maps.png', -1)"
   ]
  },
  {
   "cell_type": "code",
   "execution_count": 11,
   "metadata": {},
   "outputs": [
    {
     "data": {
      "image/png": "[encoded data removed]",
      "text/plain": [
       "<Figure size 432x288 with 1 Axes>"
      ]
     },
     "metadata": {},
     "output_type": "display_data"
    }
   ],
   "source": [
    "ax = plt.imshow(dat)"
   ]
  },
  {
   "cell_type": "markdown",
   "metadata": {},
   "source": [
    "Cut out left panel, SSC covariance"
   ]
  },
  {
   "cell_type": "code",
   "execution_count": 12,
   "metadata": {
    "collapsed": true
   },
   "outputs": [],
   "source": [
    "lower_x = 139\n",
    "lower_y =  55\n",
    "upper_x = 679\n",
    "upper_y = 595"
   ]
  },
  {
   "cell_type": "code",
   "execution_count": 13,
   "metadata": {
    "collapsed": true
   },
   "outputs": [],
   "source": [
    "cov_fine = dat[lower_y : upper_y, lower_x : upper_x]"
   ]
  },
  {
   "cell_type": "markdown",
   "metadata": {},
   "source": [
    "Invert x-axis such that lower left image corner is (0,0)."
   ]
  },
  {
   "cell_type": "code",
   "execution_count": 14,
   "metadata": {
    "collapsed": true
   },
   "outputs": [],
   "source": [
    "cov_fine = cov_fine[::-1,:,:]"
   ]
  },
  {
   "cell_type": "markdown",
   "metadata": {},
   "source": [
    "Plot with new axis direction accounted for, origin at lower left corner"
   ]
  },
  {
   "cell_type": "code",
   "execution_count": 15,
   "metadata": {},
   "outputs": [
    {
     "data": {
      "image/png": "[encoded data removed]",
      "text/plain": [
       "<Figure size 432x288 with 1 Axes>"
      ]
     },
     "metadata": {},
     "output_type": "display_data"
    }
   ],
   "source": [
    "ax = plt.imshow(cov_fine, cmap=cm.jet, origin='lower')"
   ]
  },
  {
   "cell_type": "code",
   "execution_count": 16,
   "metadata": {
    "collapsed": true
   },
   "outputs": [],
   "source": [
    "import scipy.cluster.vq as scv\n",
    "def colormap2arr(arr,cmap,N=100):    \n",
    "    # http://stackoverflow.com/questions/3720840/how-to-reverse-color-map-image-to-scalar-values/3722674#3722674\n",
    "    gradient=cmap(np.linspace(0.0, 1.0, N)) #[:, 0:3]\n",
    "\n",
    "    # Reshape arr to something like (240*240, 4), all the 4-tuples in a long list...\n",
    "    arr2=arr.reshape((arr.shape[0]*arr.shape[1],arr.shape[2]))\n",
    "\n",
    "    # Use vector quantization to shift the values in arr2 to the nearest point in\n",
    "    # the code book (gradient).\n",
    "    code,dist=scv.vq(arr2,gradient)\n",
    "\n",
    "    # code is an array of length arr2 (240*240), holding the code book index for\n",
    "    # each observation. (arr2 are the \"observations\".)\n",
    "    # Scale the values so they are from 0 to 1.\n",
    "    values=code.astype('float')/gradient.shape[0]\n",
    "\n",
    "    # Reshape values back to (240,240)\n",
    "    values=values.reshape(arr.shape[0],arr.shape[1])\n",
    "    values=values[::-1, ::-1]\n",
    "    return values"
   ]
  },
  {
   "cell_type": "markdown",
   "metadata": {},
   "source": [
    "Transform RGB tuple to scalar"
   ]
  },
  {
   "cell_type": "code",
   "execution_count": 17,
   "metadata": {
    "collapsed": true
   },
   "outputs": [],
   "source": [
    "cov_sc = colormap2arr(cov_fine, cm.jet, N=300)\n",
    "#cov_sc = cov_fine"
   ]
  },
  {
   "cell_type": "code",
   "execution_count": 18,
   "metadata": {},
   "outputs": [
    {
     "data": {
      "image/png": "[encoded data removed]",
      "text/plain": [
       "<Figure size 432x288 with 1 Axes>"
      ]
     },
     "metadata": {},
     "output_type": "display_data"
    }
   ],
   "source": [
    "ax = plt.imshow(cov_sc, origin='lower')"
   ]
  },
  {
   "cell_type": "markdown",
   "metadata": {},
   "source": [
    "Remap to original image pixels in $\\ell$."
   ]
  },
  {
   "cell_type": "code",
   "execution_count": 19,
   "metadata": {
    "collapsed": true
   },
   "outputs": [],
   "source": [
    "npix = 19\n",
    "n = upper_x - lower_x\n",
    "step = int(n / npix)\n",
    "cov = cov_sc[0:n:step,0:n:step]"
   ]
  },
  {
   "cell_type": "markdown",
   "metadata": {},
   "source": [
    "Copy upper left to lower right triangle, to overwrite plot legend"
   ]
  },
  {
   "cell_type": "code",
   "execution_count": 20,
   "metadata": {
    "collapsed": true
   },
   "outputs": [],
   "source": [
    "i_upper = np.triu_indices(npix+1, -1)\n",
    "cov[i_upper] = cov.T[i_upper]"
   ]
  },
  {
   "cell_type": "markdown",
   "metadata": {},
   "source": [
    "Last pixel is mapped to wrong value, change it by hand"
   ]
  },
  {
   "cell_type": "code",
   "execution_count": 21,
   "metadata": {
    "collapsed": true
   },
   "outputs": [],
   "source": [
    "cov[npix, npix] = cov[npix-1, npix-1]"
   ]
  },
  {
   "cell_type": "code",
   "execution_count": 22,
   "metadata": {},
   "outputs": [
    {
     "data": {
      "image/png": "[encoded data removed]",
      "text/plain": [
       "<Figure size 432x288 with 1 Axes>"
      ]
     },
     "metadata": {},
     "output_type": "display_data"
    }
   ],
   "source": [
    "ax = plt.imshow(cov, interpolation='none', origin='lower')"
   ]
  },
  {
   "cell_type": "markdown",
   "metadata": {},
   "source": [
    "Cut out color legend from image"
   ]
  },
  {
   "cell_type": "code",
   "execution_count": 23,
   "metadata": {
    "collapsed": true
   },
   "outputs": [],
   "source": [
    "x_leg = 730\n",
    "lower_y_leg = 54 + 10\n",
    "upper_y_leg = 590 - 10\n",
    "n_leg = upper_y_leg - lower_y_leg"
   ]
  },
  {
   "cell_type": "code",
   "execution_count": 24,
   "metadata": {
    "collapsed": true
   },
   "outputs": [],
   "source": [
    "leg_fine = dat[lower_y_leg : upper_y_leg, (x_leg-1):(x_leg+1)]"
   ]
  },
  {
   "cell_type": "code",
   "execution_count": 25,
   "metadata": {
    "collapsed": true
   },
   "outputs": [],
   "source": [
    "leg_sc = colormap2arr(leg_fine, cm.jet, N=50)\n",
    "#leg_sc = leg_fine"
   ]
  },
  {
   "cell_type": "code",
   "execution_count": 26,
   "metadata": {
    "collapsed": true
   },
   "outputs": [],
   "source": [
    "step = 70\n",
    "leg = leg_sc[0:n_leg:step, :]\n",
    "leg = leg[::-1,:]"
   ]
  },
  {
   "cell_type": "code",
   "execution_count": 27,
   "metadata": {},
   "outputs": [
    {
     "data": {
      "text/plain": [
       "array([0.12, 0.34, 0.36, 0.38, 0.62, 0.64, 0.66, 0.86])"
      ]
     },
     "execution_count": 27,
     "metadata": {},
     "output_type": "execute_result"
    },
    {
     "data": {
      "image/png": "[encoded data removed]",
      "text/plain": [
       "<Figure size 432x288 with 1 Axes>"
      ]
     },
     "metadata": {},
     "output_type": "display_data"
    }
   ],
   "source": [
    "plt.imshow(leg, origin='lower')\n",
    "leg0 = leg[:,0]\n",
    "leg0"
   ]
  },
  {
   "cell_type": "markdown",
   "metadata": {},
   "source": [
    "Map colors to values according to legend labels, and create interpolation object"
   ]
  },
  {
   "cell_type": "code",
   "execution_count": 28,
   "metadata": {
    "collapsed": true
   },
   "outputs": [],
   "source": [
    "v0 = 0\n",
    "v1 = 0.6\n",
    "v = np.linspace(v0, v1, len(leg0))\n",
    "leg_interp = interpolate.interp1d(leg0, v, kind='linear', bounds_error=False, fill_value=0)"
   ]
  },
  {
   "cell_type": "code",
   "execution_count": 29,
   "metadata": {
    "collapsed": true
   },
   "outputs": [],
   "source": [
    "my_v = leg_interp(0.8)"
   ]
  },
  {
   "cell_type": "code",
   "execution_count": 30,
   "metadata": {},
   "outputs": [
    {
     "data": {
      "text/plain": [
       "Text(0.5, 0, 'leg')"
      ]
     },
     "execution_count": 30,
     "metadata": {},
     "output_type": "execute_result"
    },
    {
     "data": {
      "image/png": "[encoded data removed]",
      "text/plain": [
       "<Figure size 432x288 with 1 Axes>"
      ]
     },
     "metadata": {},
     "output_type": "display_data"
    }
   ],
   "source": [
    "plt.plot(leg0, v, 'g-')\n",
    "leg0_10 = np.linspace(leg0[0]-0.1, leg0[-1]+0.1, len(leg0)*10)\n",
    "plt.plot(leg0_10, leg_interp(leg0_10), 'r:')\n",
    "plt.ylabel('v')\n",
    "plt.xlabel('leg')"
   ]
  },
  {
   "cell_type": "markdown",
   "metadata": {},
   "source": [
    "Crop values that are outside legend range"
   ]
  },
  {
   "cell_type": "code",
   "execution_count": 31,
   "metadata": {
    "collapsed": true
   },
   "outputs": [],
   "source": [
    "cov[cov > leg0.max()] = leg0.max()"
   ]
  },
  {
   "cell_type": "markdown",
   "metadata": {},
   "source": [
    "Create matrix with real (covariance) values according"
   ]
  },
  {
   "cell_type": "code",
   "execution_count": 32,
   "metadata": {
    "collapsed": true
   },
   "outputs": [],
   "source": [
    "cov_v = []\n",
    "for i in range(cov.shape[0]):\n",
    "    row = leg_interp(cov[:,i])\n",
    "    cov_v.append(row)\n",
    "cov_v = np.array(cov_v)"
   ]
  },
  {
   "cell_type": "code",
   "execution_count": 33,
   "metadata": {},
   "outputs": [
    {
     "data": {
      "image/png": "[encoded data removed]",
      "text/plain": [
       "<Figure size 432x288 with 1 Axes>"
      ]
     },
     "metadata": {},
     "output_type": "display_data"
    }
   ],
   "source": [
    "ax = plt.imshow(cov_v, interpolation='none', origin='lower')"
   ]
  },
  {
   "cell_type": "code",
   "execution_count": 34,
   "metadata": {},
   "outputs": [
    {
     "data": {
      "text/plain": [
       "array([0.6       , 0.51428571, 0.51428571, 0.5       , 0.5       ,\n",
       "       0.41428571, 0.41428571, 0.41428571, 0.24285714, 0.24285714,\n",
       "       0.24285714, 0.24285714, 0.24285714, 0.41428571, 0.41428571,\n",
       "       0.41428571, 0.41428571, 0.24285714, 0.24285714, 0.24285714])"
      ]
     },
     "execution_count": 34,
     "metadata": {},
     "output_type": "execute_result"
    }
   ],
   "source": [
    "np.diag(cov_v)"
   ]
  },
  {
   "cell_type": "code",
   "execution_count": 35,
   "metadata": {
    "collapsed": true
   },
   "outputs": [],
   "source": [
    "x1, x2 = np.mgrid[0:npix+1:1, 0:npix+1:1]\n",
    "grid   = np.dstack((x1, x2))"
   ]
  },
  {
   "cell_type": "markdown",
   "metadata": {},
   "source": [
    "$\\ell$-values (logarithmic = original bins)"
   ]
  },
  {
   "cell_type": "code",
   "execution_count": 36,
   "metadata": {
    "collapsed": true
   },
   "outputs": [],
   "source": [
    "lmin = 25\n",
    "lmax = 4000\n",
    "log_lmin = np.log10(lmin)\n",
    "log_lmax = np.log10(lmax)\n",
    "log_l = np.linspace(log_lmin, log_lmax, npix+1)"
   ]
  },
  {
   "cell_type": "code",
   "execution_count": 37,
   "metadata": {},
   "outputs": [
    {
     "name": "stdout",
     "output_type": "stream",
     "text": [
      "1.3979400086720377 3.6020599913279625\n"
     ]
    }
   ],
   "source": [
    "print(log_lmin, log_lmax)"
   ]
  },
  {
   "cell_type": "code",
   "execution_count": 38,
   "metadata": {},
   "outputs": [
    {
     "data": {
      "image/png": "[encoded data removed]",
      "text/plain": [
       "<Figure size 432x288 with 1 Axes>"
      ]
     },
     "metadata": {},
     "output_type": "display_data"
    }
   ],
   "source": [
    "fig, ax = plt.subplots()\n",
    "CS = ax.contour(log_l, log_l, cov_v, levels=[0.06, 0.12, 0.18, 0.24, 0.3, 0.36, 0.42, 0.48, 0.54, 0.6], cmap=cm.jet, origin='lower')\n",
    "CS.levels = [val for val in CS.levels]\n",
    "txt = ax.clabel(CS, CS.levels, inline=True, fmt='%r', fontsize=10)\n",
    "ax.set_aspect('equal')"
   ]
  },
  {
   "cell_type": "markdown",
   "metadata": {},
   "source": [
    "Write matrix to file, and create 1D arrays forming a grid (ell_x, ell_y) for later interpolation to linear bins."
   ]
  },
  {
   "cell_type": "code",
   "execution_count": 69,
   "metadata": {},
   "outputs": [],
   "source": [
    "f = open('cov_SSC_rel_log.txt', 'w')\n",
    "ell_x = []\n",
    "ell_y = []\n",
    "for i in range(npix+1):\n",
    "    y = 10**log_l[i]\n",
    "    for j in range(npix+1):\n",
    "        x = 10**log_l[j]\n",
    "        print('{:8.2f} {:8.2f} {:.3f}'.format(y, x, cov[i][j]), file=f)\n",
    "        ell_x.append(x)\n",
    "        ell_y.append(y)\n",
    "f.close()"
   ]
  },
  {
   "cell_type": "markdown",
   "metadata": {},
   "source": [
    "$\\ell$-values (linear: interpolate from logarithmic bins)"
   ]
  },
  {
   "cell_type": "code",
   "execution_count": 54,
   "metadata": {},
   "outputs": [],
   "source": [
    "cov_v_func = interpolate.interp2d(ell_x, ell_y, cov_v, kind='linear')\n",
    "ell = np.linspace(lmin, lmax, npix+1)\n",
    "cov_v_lin = cov_v_func(ell, ell)\n",
    "\n",
    "# Somehow the matrix is not symmetric: Symmetrize\n",
    "cov_v_lin_sym = 0.5 * (cov_v_lin + cov_v_lin.transpose())\n",
    "\n",
    "\n",
    "# Same for real cov values\n",
    "cov_func = interpolate.interp2d(ell_x, ell_y, cov, kind='linear')\n",
    "cov_lin = cov_func(ell, ell)\n",
    "\n",
    "# Somehow the matrix is not symmetric: Symmetrize\n",
    "cov_lin_sym = 0.5 * (cov_lin + cov_lin.transpose())"
   ]
  },
  {
   "cell_type": "code",
   "execution_count": 55,
   "metadata": {},
   "outputs": [
    {
     "data": {
      "image/png": "[encoded data removed]",
      "text/plain": [
       "<Figure size 432x288 with 1 Axes>"
      ]
     },
     "metadata": {},
     "output_type": "display_data"
    }
   ],
   "source": [
    "fig, ax = plt.subplots()\n",
    "CS = ax.contour(ell, ell, cov_v_lin_sym, levels=[0.06, 0.12, 0.18, 0.24, 0.3, 0.36, 0.42, 0.48, 0.54, 0.6], cmap=cm.jet, origin='lower')\n",
    "CS.levels = [val for val in CS.levels]\n",
    "txt = ax.clabel(CS, CS.levels, inline=True, fmt='%r', fontsize=10)\n",
    "ax.set_aspect('equal')"
   ]
  },
  {
   "cell_type": "markdown",
   "metadata": {},
   "source": [
    "Writing matrix for linear bins"
   ]
  },
  {
   "cell_type": "code",
   "execution_count": 57,
   "metadata": {
    "collapsed": true
   },
   "outputs": [],
   "source": [
    "f = open('cov_SSC_rel_lin.txt', 'w')\n",
    "for i in range(npix+1):\n",
    "    y = ell[i]\n",
    "    for j in range(npix+1):\n",
    "        x = ell[j]\n",
    "        print('{:8.2f} {:8.2f} {:.3f}'.format(y, x, cov_lin_sym[i][j]), file=f)\n",
    "f.close()"
   ]
  },
  {
   "cell_type": "markdown",
   "metadata": {},
   "source": [
    "Testing: reading cov file"
   ]
  },
  {
   "cell_type": "code",
   "execution_count": 58,
   "metadata": {
    "collapsed": true
   },
   "outputs": [],
   "source": [
    "from astropy.io import ascii\n",
    "dat = ascii.read('cov_SSC_rel.txt')"
   ]
  },
  {
   "cell_type": "code",
   "execution_count": 59,
   "metadata": {
    "collapsed": true
   },
   "outputs": [],
   "source": [
    "n = int(np.sqrt(len(dat)))"
   ]
  },
  {
   "cell_type": "code",
   "execution_count": 60,
   "metadata": {
    "collapsed": true
   },
   "outputs": [],
   "source": [
    "drel = (10**log_l - dat['col2'][0:n])/dat['col2'][0:n]"
   ]
  },
  {
   "cell_type": "code",
   "execution_count": 61,
   "metadata": {
    "collapsed": true
   },
   "outputs": [],
   "source": [
    "if np.where(drel > 1e-3)[0].any():\n",
    "    print('Diff')"
   ]
  },
  {
   "cell_type": "markdown",
   "metadata": {
    "collapsed": true
   },
   "source": [
    "Read covariance matrixes from ABC run and plot"
   ]
  },
  {
   "cell_type": "code",
   "execution_count": 62,
   "metadata": {
    "collapsed": true
   },
   "outputs": [],
   "source": [
    "cov_G = np.loadtxt('cov_G.txt')\n",
    "cov_SSC = np.loadtxt('cov_SSC.txt')\n",
    "cov_est = np.loadtxt('cov_est.txt')\n",
    "vmax = max(cov_G.max(), cov_SSC.max(), cov_est.max())"
   ]
  },
  {
   "cell_type": "code",
   "execution_count": 63,
   "metadata": {},
   "outputs": [
    {
     "data": {
      "text/plain": [
       "<matplotlib.colorbar.Colorbar at 0x128a15320>"
      ]
     },
     "execution_count": 63,
     "metadata": {},
     "output_type": "execute_result"
    },
    {
     "data": {
      "image/png": "[encoded data removed]",
      "text/plain": [
       "<Figure size 432x288 with 5 Axes>"
      ]
     },
     "metadata": {},
     "output_type": "display_data"
    }
   ],
   "source": [
    "fig, (ax1, ax2, ax3, ax4) = plt.subplots(1, 4)\n",
    "img1 = ax1.imshow(cov_G, origin='lower', interpolation='none', vmin=0, vmax=vmax)\n",
    "img2 = ax2.imshow(cov_SSC, origin='lower', interpolation='none', vmin=0, vmax=vmax)\n",
    "img3 = ax3.imshow(cov_G + cov_SSC, origin='lower', interpolation='none', vmin=0, vmax=vmax)\n",
    "img4 = ax4.imshow(cov_est, origin='lower', interpolation='none', vmin=0, vmax=vmax)\n",
    "plt.colorbar(img1)"
   ]
  },
  {
   "cell_type": "markdown",
   "metadata": {},
   "source": [
    "Plot correlation coefficients"
   ]
  },
  {
   "cell_type": "code",
   "execution_count": 64,
   "metadata": {
    "collapsed": true
   },
   "outputs": [],
   "source": [
    "from mkstuff import corr_coeff"
   ]
  },
  {
   "cell_type": "code",
   "execution_count": 65,
   "metadata": {},
   "outputs": [
    {
     "data": {
      "text/plain": [
       "<matplotlib.colorbar.Colorbar at 0x127debc18>"
      ]
     },
     "execution_count": 65,
     "metadata": {},
     "output_type": "execute_result"
    },
    {
     "data": {
      "image/png": "[encoded data removed]",
      "text/plain": [
       "<Figure size 432x288 with 4 Axes>"
      ]
     },
     "metadata": {},
     "output_type": "display_data"
    }
   ],
   "source": [
    "fig, (ax1, ax2, ax3) = plt.subplots(1, 3)\n",
    "img1 = ax1.imshow(corr_coeff(cov_SSC), origin='lower', interpolation='none', vmin=0, vmax=1)\n",
    "img2 = ax2.imshow(corr_coeff(cov_G + cov_SSC), origin='lower', interpolation='none', vmin=0, vmax=1)\n",
    "img3 = ax3.imshow(corr_coeff(cov_est), origin='lower', interpolation='none', vmin=0, vmax=1)\n",
    "plt.colorbar(img1)"
   ]
  },
  {
   "cell_type": "code",
   "execution_count": 66,
   "metadata": {},
   "outputs": [
    {
     "data": {
      "text/plain": [
       "<matplotlib.colorbar.Colorbar at 0x127f56b00>"
      ]
     },
     "execution_count": 66,
     "metadata": {},
     "output_type": "execute_result"
    },
    {
     "data": {
      "image/png": "[encoded data removed]",
      "text/plain": [
       "<Figure size 432x288 with 4 Axes>"
      ]
     },
     "metadata": {},
     "output_type": "display_data"
    }
   ],
   "source": [
    "fig, (ax1, ax2, ax3) = plt.subplots(1, 3)\n",
    "vmax = max((cov_G/cov_SSC).max(), ((cov_G+cov_SSC)/cov_SSC).max(), (cov_est/cov_SSC).max())\n",
    "img1 = ax1.imshow(cov_G/cov_SSC, origin='lower', interpolation='none', vmin=0, vmax=vmax)\n",
    "img2 = ax2.imshow((cov_G+cov_SSC)/cov_SSC, origin='lower', interpolation='none', vmin=0, vmax=vmax)\n",
    "img3 = ax3.imshow(cov_est/cov_SSC, origin='lower', interpolation='none', vmin=0, vmax=vmax)\n",
    "plt.colorbar(img1)"
   ]
  },
  {
   "cell_type": "markdown",
   "metadata": {},
   "source": [
    "Plot ratio of SSC to (G+SSC) covariance. This can be compared to Fig. 5c of BKS17.\n",
    "Note however that the latter is normalised to the total covariance including the cNG term."
   ]
  },
  {
   "cell_type": "code",
   "execution_count": 67,
   "metadata": {},
   "outputs": [
    {
     "data": {
      "image/png": "[encoded data removed]",
      "text/plain": [
       "<Figure size 432x288 with 2 Axes>"
      ]
     },
     "metadata": {},
     "output_type": "display_data"
    }
   ],
   "source": [
    "dat = cv2.imread('BKS17_Fig5ac.png')\n",
    "fig, (ax1, ax2) = plt.subplots(1, 2)\n",
    "ax1.semilogx(10**log_l, np.diag(cov_SSC) / np.diag(cov_G + cov_SSC))\n",
    "xlab = ax1.set_xlabel('$\\ell$')\n",
    "ylab = ax1.set_ylabel('SSC / (G + SSC)')\n",
    "\n",
    "ax2.imshow(dat)\n",
    "ax2.get_xaxis().set_visible(False)\n",
    "ax2.get_yaxis().set_visible(False)"
   ]
  },
  {
   "cell_type": "markdown",
   "metadata": {
    "collapsed": true
   },
   "source": [
    "Plot diagonal of SSC cov, in linear and log ell."
   ]
  },
  {
   "cell_type": "code",
   "execution_count": 70,
   "metadata": {
    "collapsed": true
   },
   "outputs": [],
   "source": [
    "dat_log = ascii.read('cov_SSC_rel_log.txt')\n",
    "dat_lin = ascii.read('cov_SSC_rel_lin.txt')"
   ]
  },
  {
   "cell_type": "code",
   "execution_count": 82,
   "metadata": {},
   "outputs": [
    {
     "data": {
      "text/html": [
       "&lt;Column name=&apos;col3&apos; dtype=&apos;float64&apos; length=20&gt;\n",
       "<table>\n",
       "<tr><td>0.86</td></tr>\n",
       "<tr><td>0.377</td></tr>\n",
       "<tr><td>0.727</td></tr>\n",
       "<tr><td>0.466</td></tr>\n",
       "<tr><td>0.632</td></tr>\n",
       "<tr><td>0.638</td></tr>\n",
       "<tr><td>0.652</td></tr>\n",
       "<tr><td>0.616</td></tr>\n",
       "<tr><td>0.671</td></tr>\n",
       "<tr><td>0.525</td></tr>\n",
       "<tr><td>0.4</td></tr>\n",
       "<tr><td>0.377</td></tr>\n",
       "<tr><td>0.377</td></tr>\n",
       "<tr><td>0.378</td></tr>\n",
       "<tr><td>0.378</td></tr>\n",
       "<tr><td>0.375</td></tr>\n",
       "<tr><td>0.374</td></tr>\n",
       "<tr><td>0.373</td></tr>\n",
       "<tr><td>0.374</td></tr>\n",
       "<tr><td>0.377</td></tr>\n",
       "</table>"
      ],
      "text/plain": [
       "<Column name='col3' dtype='float64' length=20>\n",
       " 0.86\n",
       "0.377\n",
       "0.727\n",
       "0.466\n",
       "0.632\n",
       "0.638\n",
       "0.652\n",
       "0.616\n",
       "0.671\n",
       "0.525\n",
       "  0.4\n",
       "0.377\n",
       "0.377\n",
       "0.378\n",
       "0.378\n",
       "0.375\n",
       "0.374\n",
       "0.373\n",
       "0.374\n",
       "0.377"
      ]
     },
     "execution_count": 82,
     "metadata": {},
     "output_type": "execute_result"
    },
    {
     "data": {
      "image/png": "[encoded data removed]",
      "text/plain": [
       "<Figure size 432x288 with 1 Axes>"
      ]
     },
     "metadata": {},
     "output_type": "display_data"
    }
   ],
   "source": [
    "w = dat_log['col1'] == dat_log['col2']\n",
    "plt.plot(dat_log['col1'][w], dat_log['col3'][w])\n",
    "\n",
    "w = dat_lin['col1'] == dat_lin['col2']\n",
    "plt.plot(dat_lin['col1'][w], dat_lin['col3'][w])\n",
    "dat_lin['col3'][w]"
   ]
  },
  {
   "cell_type": "code",
   "execution_count": null,
   "metadata": {
    "collapsed": true
   },
   "outputs": [],
   "source": []
  }
 ],
 "metadata": {
  "kernelspec": {
   "display_name": "Python 3",
   "language": "python",
   "name": "python3"
  }
 },
 "nbformat": 4,
 "nbformat_minor": 2
}
