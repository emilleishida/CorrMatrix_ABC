{
 "cells": [
  {
   "cell_type": "markdown",
   "metadata": {},
   "source": [
    "# Toy model: quadratic function, ressembling weak-lensing power spectrum"
   ]
  },
  {
   "cell_type": "code",
   "execution_count": 6,
   "metadata": {
    "collapsed": true
   },
   "outputs": [],
   "source": [
    "from os import environ\n",
    "import numpy as np\n",
    "import pylab as plt"
   ]
  },
  {
   "cell_type": "code",
   "execution_count": 7,
   "metadata": {
    "collapsed": true
   },
   "outputs": [],
   "source": [
    "%matplotlib inline"
   ]
  },
  {
   "cell_type": "markdown",
   "metadata": {},
   "source": [
    "### Weak-lensing power spectrum"
   ]
  },
  {
   "cell_type": "code",
   "execution_count": 8,
   "metadata": {
    "collapsed": true
   },
   "outputs": [],
   "source": [
    "basedir = '{}/astro/papers/cs_review/figures/dlogP_dlogp'.format(environ['HOME'])"
   ]
  },
  {
   "cell_type": "code",
   "execution_count": 9,
   "metadata": {
    "collapsed": true
   },
   "outputs": [],
   "source": [
    "def read_Cell(path, ell_min, ell_max):\n",
    "    \"\"\"Read P_kappa file and return log_10(ell), log_10(C_ell) within ell-range\n",
    "    \"\"\"\n",
    "    \n",
    "    pk = np.loadtxt(path)\n",
    "    ell  = pk[:,0]\n",
    "    Cell = pk[:,1] / (ell * (ell+1) / (2 * np.pi))\n",
    "\n",
    "    ran     = (ell>=ell_min) & (ell<=ell_max)\n",
    "    \n",
    "    return np.log10(ell[ran]), np.log10(Cell[ran])"
   ]
  },
  {
   "cell_type": "markdown",
   "metadata": {},
   "source": [
    "#### Fitting range"
   ]
  },
  {
   "cell_type": "code",
   "execution_count": 10,
   "metadata": {
    "collapsed": true
   },
   "outputs": [],
   "source": [
    "ell_min = 10\n",
    "ell_max = 1e4"
   ]
  },
  {
   "cell_type": "markdown",
   "metadata": {},
   "source": [
    "#### Fiducial cosmological parameters"
   ]
  },
  {
   "cell_type": "code",
   "execution_count": 12,
   "metadata": {
    "collapsed": true
   },
   "outputs": [],
   "source": [
    "Om_fid = 0.306\n",
    "s8_fid = 0.827"
   ]
  },
  {
   "cell_type": "markdown",
   "metadata": {},
   "source": [
    "#### Plot standard power spectrum"
   ]
  },
  {
   "cell_type": "code",
   "execution_count": 13,
   "metadata": {
    "collapsed": true
   },
   "outputs": [],
   "source": [
    "logell, logCell = read_Cell('{}/P_kappa'.format(basedir), ell_min, ell_max)"
   ]
  },
  {
   "cell_type": "code",
   "execution_count": 17,
   "metadata": {},
   "outputs": [
    {
     "data": {
      "image/png": "[encoded data removed]",
      "text/plain": [
       "<matplotlib.figure.Figure at 0x11b9f14a8>"
      ]
     },
     "metadata": {},
     "output_type": "display_data"
    }
   ],
   "source": [
    "p = plt.plot(logell, logCell)\n",
    "tx = plt.xlabel('$\\ell$')\n",
    "ty = plt.ylabel('$C_\\ell$')"
   ]
  },
  {
   "cell_type": "markdown",
   "metadata": {},
   "source": [
    "## Fitting functions\n",
    "We define a quadratic function $q(u) = c + a (u - u_0)^2$, which we will fit to the (ten-)logarithm of the weak-lensing power spectrum $C_\\ell$. We will then vary two parameters, that mimic cosmological parameter as follows:\n",
    "\n",
    "1. A tilt parameter `tilt`, corresponding to the matter density $\\Omega_{\\rm m}$. This is linearly related to the shift $u_0$.\n",
    "\n",
    "2. An amplitude parameter `ampl`, corresponding to the power-spectrum amplitude $\\sigma_8$. The logarithm of that parameter is linearly related to the offset $c$."
   ]
  },
  {
   "cell_type": "code",
   "execution_count": 27,
   "metadata": {
    "collapsed": true
   },
   "outputs": [],
   "source": [
    "from scipy.optimize import curve_fit"
   ]
  },
  {
   "cell_type": "code",
   "execution_count": 28,
   "metadata": {
    "collapsed": true
   },
   "outputs": [],
   "source": [
    "def add(ampl):\n",
    "    \"\"\"Return the additive constant of the quadratic function\n",
    "       from the amplitude fitting parameter\n",
    "       (mimics power-spectrum normalisation s8)\n",
    "    \"\"\"\n",
    "    \n",
    "    # This provides a best-fit amp=0.827, but the 10% increased\n",
    "    # spectrum (0.9097) gives a best-fit of 0.925\n",
    "    # Changing the prefactor of amp or lg(amp) does not help...\n",
    "    \n",
    "    c = np.log10(ampl)*2 - 6.11568527 + 0.1649\n",
    "    \n",
    "    return c"
   ]
  },
  {
   "cell_type": "code",
   "execution_count": 29,
   "metadata": {
    "collapsed": true
   },
   "outputs": [],
   "source": [
    "def shift(tilt):\n",
    "    \"\"\"Return the shift parameter of the quadratic function\n",
    "       from the tilt parameter (mimics matter density)\n",
    "    \"\"\"\n",
    "    \n",
    "    u0 = tilt * 1.85132114 / 0.306\n",
    "    \n",
    "    return u0"
   ]
  },
  {
   "cell_type": "code",
   "execution_count": 34,
   "metadata": {
    "collapsed": true
   },
   "outputs": [],
   "source": [
    "def quadratic(u, *params):\n",
    "    \"\"\"Used to fit quadratic function varying all three parameters\n",
    "    \"\"\"\n",
    "    \n",
    "    (ampl, tilt, a) = np.array(params)\n",
    "    c  = add(ampl)\n",
    "    u0 = shift(tilt)\n",
    "    \n",
    "    return c + a * (u - u0)**2"
   ]
  },
  {
   "cell_type": "code",
   "execution_count": 35,
   "metadata": {
    "collapsed": true
   },
   "outputs": [],
   "source": [
    "def quadratic_c(u, *params):\n",
    "    \"\"\"Used to fit quadratic function varying constant coefficient only\n",
    "    \"\"\"\n",
    "    (ampl) = np.array(params)\n",
    "    c  = add(ampl)\n",
    "    u0 = shift(tilt_glob)\n",
    "    \n",
    "    return c + a_glob * (u - u0)**2"
   ]
  },
  {
   "cell_type": "code",
   "execution_count": 36,
   "metadata": {
    "collapsed": true
   },
   "outputs": [],
   "source": [
    "def quadratic_u0(u, *params):\n",
    "    \"\"\"Used to fit quadratic function varying shift parameter only\n",
    "    \"\"\"\n",
    "    (tilt) = np.array(params)\n",
    "    c = add(ampl_glob)\n",
    "    u0 = shift(tilt)\n",
    "    \n",
    "    return c + a_glob * (u - u0)**2"
   ]
  },
  {
   "cell_type": "markdown",
   "metadata": {},
   "source": [
    "## Fitting"
   ]
  },
  {
   "cell_type": "markdown",
   "metadata": {},
   "source": [
    "### Fit standard power spectrum"
   ]
  },
  {
   "cell_type": "code",
   "execution_count": 41,
   "metadata": {},
   "outputs": [],
   "source": [
    "p0 = [1, 0, 0]\n",
    "popt, pcov = curve_fit(quadratic, logell, logCell + logell, p0)"
   ]
  },
  {
   "cell_type": "markdown",
   "metadata": {},
   "source": [
    "Best-fit parameter (ampl, tilt, $u_0$)"
   ]
  },
  {
   "cell_type": "code",
   "execution_count": 42,
   "metadata": {},
   "outputs": [
    {
     "data": {
      "text/plain": [
       "array([ 0.82708472,  0.306     , -0.17586216])"
      ]
     },
     "execution_count": 42,
     "metadata": {},
     "output_type": "execute_result"
    }
   ],
   "source": [
    "popt"
   ]
  },
  {
   "cell_type": "code",
   "execution_count": 68,
   "metadata": {},
   "outputs": [
    {
     "data": {
      "image/png": "[encoded data removed]",
      "text/plain": [
       "<matplotlib.figure.Figure at 0x11d3f6780>"
      ]
     },
     "metadata": {},
     "output_type": "display_data"
    }
   ],
   "source": [
    "plot_1 = plt.plot(logell, logCell + logell, 'r.', label='Data')\n",
    "plt.plot(logell, quadratic(logell, *popt), 'r-', label='quadratic fit')\n",
    "plt.legend()\n",
    "xl_1   = plt.xlabel('$\\lg \\ell$')\n",
    "yl_1   = plt.ylabel('$\\lg [\\ell \\, C(\\ell)]$')"
   ]
  },
  {
   "cell_type": "markdown",
   "metadata": {},
   "source": [
    "### Fit standard power spectrum with higher amplitude (small-scale normalization $\\sigma_8$)\n",
    "\n",
    "The normalisation is increased by 10%, thus $\\sigma_8^+ = 0.9097$."
   ]
  },
  {
   "cell_type": "markdown",
   "metadata": {},
   "source": [
    "#### Fit by varying all coefficients"
   ]
  },
  {
   "cell_type": "code",
   "execution_count": 51,
   "metadata": {
    "collapsed": true
   },
   "outputs": [],
   "source": [
    "logell_ps, logCell_ps = read_Cell('{}/normalization+dp/P_kappa'.format(basedir), ell_min, ell_max)"
   ]
  },
  {
   "cell_type": "code",
   "execution_count": 52,
   "metadata": {
    "collapsed": true
   },
   "outputs": [],
   "source": [
    "p0 = [1, 0, 0]\n",
    "popt_ps, pcov_ps = curve_fit(quadratic, logell_ps, logCell_ps + logell_ps, p0)"
   ]
  },
  {
   "cell_type": "code",
   "execution_count": 53,
   "metadata": {},
   "outputs": [
    {
     "data": {
      "text/plain": [
       "array([ 0.9254462 ,  0.31677232, -0.18913766])"
      ]
     },
     "execution_count": 53,
     "metadata": {},
     "output_type": "execute_result"
    }
   ],
   "source": [
    "popt_ps"
   ]
  },
  {
   "cell_type": "markdown",
   "metadata": {},
   "source": [
    "#### Fit by only varying amplitude"
   ]
  },
  {
   "cell_type": "code",
   "execution_count": 54,
   "metadata": {
    "collapsed": true
   },
   "outputs": [],
   "source": [
    "tilt_glob, a_glob  = popt[1], popt[2]\n",
    "p0  = [1]\n",
    "popt_ps_A, pcov_ps_A = curve_fit(quadratic_c, logell_ps, logCell_ps + logell_ps, p0)"
   ]
  },
  {
   "cell_type": "markdown",
   "metadata": {},
   "source": [
    "Best-fit ampl"
   ]
  },
  {
   "cell_type": "code",
   "execution_count": 55,
   "metadata": {},
   "outputs": [
    {
     "data": {
      "text/plain": [
       "array([ 0.92487861])"
      ]
     },
     "execution_count": 55,
     "metadata": {},
     "output_type": "execute_result"
    }
   ],
   "source": [
    "popt_ps_A"
   ]
  },
  {
   "cell_type": "markdown",
   "metadata": {},
   "source": [
    "### Fit standard power spectrum with higher matter density $\\Omega_{\\rm m}$ (tilt and amplitude parameter)\n",
    "\n",
    "Increase by 10% gives $\\Omega_{\\rm m}^+ = 0.3366$."
   ]
  },
  {
   "cell_type": "markdown",
   "metadata": {},
   "source": [
    "#### Fit by varying all parameters"
   ]
  },
  {
   "cell_type": "code",
   "execution_count": 56,
   "metadata": {
    "collapsed": true
   },
   "outputs": [],
   "source": [
    "logell_pO, logCell_pO = read_Cell('{}/Omega_m+dp/P_kappa'.format(basedir), ell_min, ell_max)"
   ]
  },
  {
   "cell_type": "code",
   "execution_count": 63,
   "metadata": {
    "collapsed": true
   },
   "outputs": [],
   "source": [
    "p0 = [1, 0, 0]\n",
    "popt_pO, pcov_pO = curve_fit(quadratic, logell_pO, logCell_pO + logell_pO, p0)"
   ]
  },
  {
   "cell_type": "code",
   "execution_count": 64,
   "metadata": {},
   "outputs": [
    {
     "data": {
      "text/plain": [
       "array([ 0.87065394,  0.32647783, -0.19338417])"
      ]
     },
     "execution_count": 64,
     "metadata": {},
     "output_type": "execute_result"
    }
   ],
   "source": [
    "popt_pO"
   ]
  },
  {
   "cell_type": "markdown",
   "metadata": {},
   "source": [
    "#### Fit by varying only shift parameter"
   ]
  },
  {
   "cell_type": "code",
   "execution_count": 65,
   "metadata": {},
   "outputs": [],
   "source": [
    "ampl_glob, a_glob  = popt[0], popt[2]\n",
    "p0  = [0]\n",
    "popt_pO_x0, pcov_pO_x0 = curve_fit(quadratic_u0, logell_pO, logCell_pO + logell_pO, p0)"
   ]
  },
  {
   "cell_type": "code",
   "execution_count": 66,
   "metadata": {},
   "outputs": [
    {
     "data": {
      "text/plain": [
       "array([ 0.326074])"
      ]
     },
     "execution_count": 66,
     "metadata": {},
     "output_type": "execute_result"
    }
   ],
   "source": [
    "popt_pO_x0"
   ]
  },
  {
   "cell_type": "code",
   "execution_count": 67,
   "metadata": {},
   "outputs": [
    {
     "data": {
      "image/png": "[encoded data removed]",
      "text/plain": [
       "<matplotlib.figure.Figure at 0x11d2933c8>"
      ]
     },
     "metadata": {},
     "output_type": "display_data"
    }
   ],
   "source": [
    "\n",
    "d1, = plt.plot(logell, logCell + logell, 'r.')\n",
    "d2, = plt.plot(logell_ps, logCell_ps + logell, 'b.')\n",
    "d3, = plt.plot(logell_pO, logCell_pO + logell, 'g.')\n",
    "\n",
    "f1, = plt.plot(logell, quadratic(logell, *popt), 'r-')\n",
    "f2, = plt.plot(logell_ps, quadratic_c(logell_ps, *popt_ps_A), 'b:')\n",
    "f3, = plt.plot(logell_pO, quadratic_u0(logell_pO, *popt_pO_x0), 'g:')\n",
    "\n",
    "plt.plot(logell_ps, quadratic(logell_ps, *popt_ps), 'b--')\n",
    "plt.plot(logell_pO, quadratic(logell_pO, *popt_pO), 'g--')\n",
    "\n",
    "plot_data  = [d1, d2, d3]\n",
    "label_data = ['Original data', 'Larger amplitude', 'Larger tilt']\n",
    "leg_data   = plt.legend(plot_data, label_data, loc=1)\n",
    "\n",
    "plot_fit  = [f1, f2, f3]\n",
    "label_fit = ['3-parameter fit', 'Amplitude fit', 'Tilt fit']\n",
    "leg_fit   = plt.legend(plot_fit, label_fit, loc=3)\n",
    "\n",
    "plt.gca().add_artist(leg_data)\n",
    "\n",
    "text_x = plt.xlabel('$\\log \\ell$')\n",
    "text_y = plt.ylabel('$\\log(\\ell C_\\ell)$')"
   ]
  },
  {
   "cell_type": "code",
   "execution_count": 134,
   "metadata": {},
   "outputs": [
    {
     "data": {
      "text/plain": [
       "(0.82708472453304704, 0.827)"
      ]
     },
     "execution_count": 134,
     "metadata": {},
     "output_type": "execute_result"
    }
   ],
   "source": [
    "popt[0], s8_fid"
   ]
  },
  {
   "cell_type": "code",
   "execution_count": 139,
   "metadata": {},
   "outputs": [
    {
     "data": {
      "text/plain": [
       "array([ 0.326074])"
      ]
     },
     "execution_count": 139,
     "metadata": {},
     "output_type": "execute_result"
    }
   ],
   "source": [
    "popt_pO_x0"
   ]
  },
  {
   "cell_type": "code",
   "execution_count": 623,
   "metadata": {},
   "outputs": [
    {
     "data": {
      "text/plain": [
       "1.1"
      ]
     },
     "execution_count": 623,
     "metadata": {},
     "output_type": "execute_result"
    }
   ],
   "source": [
    "0.9097/s8_fid"
   ]
  },
  {
   "cell_type": "code",
   "execution_count": null,
   "metadata": {
    "collapsed": true
   },
   "outputs": [],
   "source": []
  }
 ],
 "metadata": {
  "kernelspec": {
   "display_name": "Python 3",
   "language": "python",
   "name": "python3"
  },
  "language_info": {
   "codemirror_mode": {
    "name": "ipython",
    "version": 3
   },
   "file_extension": ".py",
   "mimetype": "text/x-python",
   "name": "python",
   "nbconvert_exporter": "python",
   "pygments_lexer": "ipython3",
   "version": "3.6.3"
  }
 },
 "nbformat": 4,
 "nbformat_minor": 1
}
