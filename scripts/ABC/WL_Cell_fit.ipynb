{
 "cells": [
  {
   "cell_type": "markdown",
   "metadata": {},
   "source": [
    "# Toy model: quadratic function, ressembling weak-lensing power spectrum"
   ]
  },
  {
   "cell_type": "code",
   "execution_count": 1,
   "metadata": {
    "collapsed": true
   },
   "outputs": [],
   "source": [
    "from os import environ\n",
    "import numpy as np\n",
    "import pylab as plt"
   ]
  },
  {
   "cell_type": "code",
   "execution_count": 2,
   "metadata": {
    "collapsed": true
   },
   "outputs": [],
   "source": [
    "%matplotlib inline"
   ]
  },
  {
   "cell_type": "markdown",
   "metadata": {},
   "source": [
    "### Weak-lensing power spectrum"
   ]
  },
  {
   "cell_type": "code",
   "execution_count": 3,
   "metadata": {
    "collapsed": true
   },
   "outputs": [],
   "source": [
    "basedir = '{}/astro/papers/cs_review/figures/dlogP_dlogp'.format(environ['HOME'])"
   ]
  },
  {
   "cell_type": "code",
   "execution_count": 4,
   "metadata": {
    "collapsed": true
   },
   "outputs": [],
   "source": [
    "def read_Cell(path, ell_min, ell_max):\n",
    "    \"\"\"Read P_kappa file and return log_10(ell), log_10(C_ell) within ell-range\n",
    "    \"\"\"\n",
    "    \n",
    "    pk = np.loadtxt(path)\n",
    "    ell  = pk[:,0]\n",
    "    Cell = pk[:,1] / (ell * (ell+1) / (2 * np.pi))\n",
    "\n",
    "    ran     = (ell>=ell_min) & (ell<=ell_max)\n",
    "    \n",
    "    return np.log10(ell[ran]), np.log10(Cell[ran])"
   ]
  },
  {
   "cell_type": "markdown",
   "metadata": {},
   "source": [
    "#### Fitting range"
   ]
  },
  {
   "cell_type": "code",
   "execution_count": 5,
   "metadata": {
    "collapsed": true
   },
   "outputs": [],
   "source": [
    "ell_min = 10\n",
    "ell_max = 1e4"
   ]
  },
  {
   "cell_type": "markdown",
   "metadata": {},
   "source": [
    "#### Fiducial cosmological parameters"
   ]
  },
  {
   "cell_type": "code",
   "execution_count": 6,
   "metadata": {
    "collapsed": true
   },
   "outputs": [],
   "source": [
    "Om_fid = 0.306\n",
    "s8_fid = 0.827"
   ]
  },
  {
   "cell_type": "markdown",
   "metadata": {},
   "source": [
    "#### Plot standard power spectrum"
   ]
  },
  {
   "cell_type": "code",
   "execution_count": 7,
   "metadata": {
    "collapsed": true
   },
   "outputs": [],
   "source": [
    "logell, logCell = read_Cell('{}/P_kappa'.format(basedir), ell_min, ell_max)"
   ]
  },
  {
   "cell_type": "code",
   "execution_count": 8,
   "metadata": {},
   "outputs": [
    {
     "data": {
      "image/png": "[encoded data removed]",
      "text/plain": [
       "<matplotlib.figure.Figure at 0x10e2beb70>"
      ]
     },
     "metadata": {},
     "output_type": "display_data"
    }
   ],
   "source": [
    "p = plt.plot(logell, logCell)\n",
    "tx = plt.xlabel('$\\ell$')\n",
    "ty = plt.ylabel('$C_\\ell$')"
   ]
  },
  {
   "cell_type": "markdown",
   "metadata": {},
   "source": [
    "## Fitting functions\n",
    "We define a quadratic function $q(u) = c + a (u - u_0)^2$, which we will fit to the (ten-)logarithm of the weak-lensing power spectrum $C_\\ell$. We will then vary two parameters, that mimic cosmological parameter as follows:\n",
    "\n",
    "1. A tilt parameter `tilt`, corresponding to the matter density $\\Omega_{\\rm m}$. This is linearly related to the shift $u_0$.\n",
    "\n",
    "2. An amplitude parameter `ampl`, corresponding to the power-spectrum amplitude $\\sigma_8$. The logarithm of that parameter is linearly related to the offset $c$."
   ]
  },
  {
   "cell_type": "code",
   "execution_count": 9,
   "metadata": {
    "collapsed": true
   },
   "outputs": [],
   "source": [
    "from scipy.optimize import curve_fit"
   ]
  },
  {
   "cell_type": "code",
   "execution_count": 10,
   "metadata": {
    "collapsed": true
   },
   "outputs": [],
   "source": [
    "def add(ampl):\n",
    "    \"\"\"Return the additive constant of the quadratic function\n",
    "       from the amplitude fitting parameter\n",
    "       (mimics power-spectrum normalisation s8)\n",
    "    \"\"\"\n",
    "    \n",
    "    # This provides a best-fit amp=0.827, but the 10% increased\n",
    "    # spectrum (0.9097) gives a best-fit of 0.925\n",
    "    # Changing the prefactor of amp or lg(amp) does not help...\n",
    "    \n",
    "    c = np.log10(ampl)*2 - 6.11568527 + 0.1649\n",
    "    \n",
    "    return c"
   ]
  },
  {
   "cell_type": "code",
   "execution_count": 11,
   "metadata": {
    "collapsed": true
   },
   "outputs": [],
   "source": [
    "def shift(tilt):\n",
    "    \"\"\"Return the shift parameter of the quadratic function\n",
    "       from the tilt parameter (mimics matter density)\n",
    "    \"\"\"\n",
    "    \n",
    "    u0 = tilt * 1.85132114 / 0.306\n",
    "    \n",
    "    return u0"
   ]
  },
  {
   "cell_type": "code",
   "execution_count": 12,
   "metadata": {
    "collapsed": true
   },
   "outputs": [],
   "source": [
    "def quadratic(u, *params):\n",
    "    \"\"\"Used to fit quadratic function varying all three parameters\n",
    "    \"\"\"\n",
    "    \n",
    "    (ampl, tilt, a) = np.array(params)\n",
    "    c  = add(ampl)\n",
    "    u0 = shift(tilt)\n",
    "    \n",
    "    return c + a * (u - u0)**2"
   ]
  },
  {
   "cell_type": "code",
   "execution_count": 13,
   "metadata": {
    "collapsed": true
   },
   "outputs": [],
   "source": [
    "def quadratic_c(u, *params):\n",
    "    \"\"\"Used to fit quadratic function varying constant coefficient only\n",
    "    \"\"\"\n",
    "    (ampl) = np.array(params)\n",
    "    c  = add(ampl)\n",
    "    u0 = shift(tilt_glob)\n",
    "    \n",
    "    return c + a_glob * (u - u0)**2"
   ]
  },
  {
   "cell_type": "code",
   "execution_count": 14,
   "metadata": {
    "collapsed": true
   },
   "outputs": [],
   "source": [
    "def quadratic_u0(u, *params):\n",
    "    \"\"\"Used to fit quadratic function varying shift parameter only\n",
    "    \"\"\"\n",
    "    (tilt) = np.array(params)\n",
    "    c = add(ampl_glob)\n",
    "    u0 = shift(tilt)\n",
    "    \n",
    "    return c + a_glob * (u - u0)**2"
   ]
  },
  {
   "cell_type": "markdown",
   "metadata": {},
   "source": [
    "## Fitting"
   ]
  },
  {
   "cell_type": "markdown",
   "metadata": {},
   "source": [
    "### Fit standard power spectrum"
   ]
  },
  {
   "cell_type": "code",
   "execution_count": 15,
   "metadata": {
    "collapsed": true
   },
   "outputs": [],
   "source": [
    "p0 = [1, 0, 0]\n",
    "popt, pcov = curve_fit(quadratic, logell, logCell + logell, p0)"
   ]
  },
  {
   "cell_type": "markdown",
   "metadata": {},
   "source": [
    "Best-fit parameter (ampl, tilt, $u_0$)"
   ]
  },
  {
   "cell_type": "code",
   "execution_count": 16,
   "metadata": {},
   "outputs": [
    {
     "data": {
      "text/plain": [
       "array([ 0.82708472,  0.306     , -0.17586216])"
      ]
     },
     "execution_count": 16,
     "metadata": {},
     "output_type": "execute_result"
    }
   ],
   "source": [
    "popt"
   ]
  },
  {
   "cell_type": "code",
   "execution_count": 17,
   "metadata": {},
   "outputs": [
    {
     "data": {
      "image/png": "[encoded data removed]",
      "text/plain": [
       "<matplotlib.figure.Figure at 0x112eee748>"
      ]
     },
     "metadata": {},
     "output_type": "display_data"
    }
   ],
   "source": [
    "plot_1 = plt.plot(logell, logCell + logell, 'r.', label='Data')\n",
    "plt.plot(logell, quadratic(logell, *popt), 'r-', label='quadratic fit')\n",
    "plt.legend()\n",
    "xl_1   = plt.xlabel('$\\lg \\ell$')\n",
    "yl_1   = plt.ylabel('$\\lg [\\ell \\, C(\\ell)]$')"
   ]
  },
  {
   "cell_type": "markdown",
   "metadata": {},
   "source": [
    "### Fit standard power spectrum with higher amplitude (small-scale normalization $\\sigma_8$)\n",
    "\n",
    "The normalisation is increased by 10%, thus $\\sigma_8^+ = 0.9097$."
   ]
  },
  {
   "cell_type": "markdown",
   "metadata": {},
   "source": [
    "#### Fit by varying all coefficients"
   ]
  },
  {
   "cell_type": "code",
   "execution_count": 18,
   "metadata": {
    "collapsed": true
   },
   "outputs": [],
   "source": [
    "logell_ps, logCell_ps = read_Cell('{}/normalization+dp/P_kappa'.format(basedir), ell_min, ell_max)"
   ]
  },
  {
   "cell_type": "code",
   "execution_count": 19,
   "metadata": {
    "collapsed": true
   },
   "outputs": [],
   "source": [
    "p0 = [1, 0, 0]\n",
    "popt_ps, pcov_ps = curve_fit(quadratic, logell_ps, logCell_ps + logell_ps, p0)"
   ]
  },
  {
   "cell_type": "code",
   "execution_count": 20,
   "metadata": {},
   "outputs": [
    {
     "data": {
      "text/plain": [
       "array([ 0.9254462 ,  0.31677232, -0.18913766])"
      ]
     },
     "execution_count": 20,
     "metadata": {},
     "output_type": "execute_result"
    }
   ],
   "source": [
    "popt_ps"
   ]
  },
  {
   "cell_type": "markdown",
   "metadata": {},
   "source": [
    "#### Fit by only varying amplitude"
   ]
  },
  {
   "cell_type": "code",
   "execution_count": 21,
   "metadata": {
    "collapsed": true
   },
   "outputs": [],
   "source": [
    "tilt_glob, a_glob  = popt[1], popt[2]\n",
    "p0  = [1]\n",
    "popt_ps_A, pcov_ps_A = curve_fit(quadratic_c, logell_ps, logCell_ps + logell_ps, p0)"
   ]
  },
  {
   "cell_type": "markdown",
   "metadata": {},
   "source": [
    "Best-fit ampl"
   ]
  },
  {
   "cell_type": "code",
   "execution_count": 22,
   "metadata": {},
   "outputs": [
    {
     "data": {
      "text/plain": [
       "array([ 0.92487861])"
      ]
     },
     "execution_count": 22,
     "metadata": {},
     "output_type": "execute_result"
    }
   ],
   "source": [
    "popt_ps_A"
   ]
  },
  {
   "cell_type": "markdown",
   "metadata": {},
   "source": [
    "### Fit standard power spectrum with higher matter density $\\Omega_{\\rm m}$ (tilt and amplitude parameter)\n",
    "\n",
    "Increase by 10% gives $\\Omega_{\\rm m}^+ = 0.3366$."
   ]
  },
  {
   "cell_type": "markdown",
   "metadata": {},
   "source": [
    "#### Fit by varying all parameters"
   ]
  },
  {
   "cell_type": "code",
   "execution_count": 23,
   "metadata": {
    "collapsed": true
   },
   "outputs": [],
   "source": [
    "logell_pO, logCell_pO = read_Cell('{}/Omega_m+dp/P_kappa'.format(basedir), ell_min, ell_max)"
   ]
  },
  {
   "cell_type": "code",
   "execution_count": 24,
   "metadata": {
    "collapsed": true
   },
   "outputs": [],
   "source": [
    "p0 = [1, 0, 0]\n",
    "popt_pO, pcov_pO = curve_fit(quadratic, logell_pO, logCell_pO + logell_pO, p0)"
   ]
  },
  {
   "cell_type": "code",
   "execution_count": 25,
   "metadata": {},
   "outputs": [
    {
     "data": {
      "text/plain": [
       "array([ 0.87065394,  0.32647783, -0.19338417])"
      ]
     },
     "execution_count": 25,
     "metadata": {},
     "output_type": "execute_result"
    }
   ],
   "source": [
    "popt_pO"
   ]
  },
  {
   "cell_type": "markdown",
   "metadata": {},
   "source": [
    "#### Fit by varying only shift parameter"
   ]
  },
  {
   "cell_type": "code",
   "execution_count": 26,
   "metadata": {
    "collapsed": true
   },
   "outputs": [],
   "source": [
    "ampl_glob, a_glob  = popt[0], popt[2]\n",
    "p0  = [0]\n",
    "popt_pO_x0, pcov_pO_x0 = curve_fit(quadratic_u0, logell_pO, logCell_pO + logell_pO, p0)"
   ]
  },
  {
   "cell_type": "code",
   "execution_count": 27,
   "metadata": {},
   "outputs": [
    {
     "data": {
      "text/plain": [
       "array([ 0.326074])"
      ]
     },
     "execution_count": 27,
     "metadata": {},
     "output_type": "execute_result"
    }
   ],
   "source": [
    "popt_pO_x0"
   ]
  },
  {
   "cell_type": "code",
   "execution_count": 28,
   "metadata": {},
   "outputs": [
    {
     "data": {
      "image/png": "[encoded data removed]",
      "text/plain": [
       "<matplotlib.figure.Figure at 0x112fa3ef0>"
      ]
     },
     "metadata": {},
     "output_type": "display_data"
    }
   ],
   "source": [
    "d1, = plt.plot(logell, logCell + logell, 'r.')\n",
    "d2, = plt.plot(logell_ps, logCell_ps + logell, 'b.')\n",
    "d3, = plt.plot(logell_pO, logCell_pO + logell, 'g.')\n",
    "\n",
    "f1, = plt.plot(logell, quadratic(logell, *popt), 'r-')\n",
    "f2, = plt.plot(logell_ps, quadratic_c(logell_ps, *popt_ps_A), 'b:')\n",
    "f3, = plt.plot(logell_pO, quadratic_u0(logell_pO, *popt_pO_x0), 'g:')\n",
    "\n",
    "plt.plot(logell_ps, quadratic(logell_ps, *popt_ps), 'b--')\n",
    "plt.plot(logell_pO, quadratic(logell_pO, *popt_pO), 'g--')\n",
    "\n",
    "plot_data  = [d1, d2, d3]\n",
    "label_data = ['Original data', 'Larger amplitude', 'Larger tilt']\n",
    "leg_data   = plt.legend(plot_data, label_data, loc=1)\n",
    "\n",
    "plot_fit  = [f1, f2, f3]\n",
    "label_fit = ['3-parameter fit', 'Amplitude fit', 'Tilt fit']\n",
    "leg_fit   = plt.legend(plot_fit, label_fit, loc=3)\n",
    "\n",
    "plt.gca().add_artist(leg_data)\n",
    "\n",
    "text_x = plt.xlabel('$\\log \\ell$')\n",
    "text_y = plt.ylabel('$\\log(\\ell C_\\ell)$')"
   ]
  },
  {
   "cell_type": "code",
   "execution_count": 29,
   "metadata": {},
   "outputs": [
    {
     "data": {
      "image/png": "[encoded data removed]",
      "text/plain": [
       "<matplotlib.figure.Figure at 0x1134d5b38>"
      ]
     },
     "metadata": {},
     "output_type": "display_data"
    }
   ],
   "source": [
    "msize = 8\n",
    "d1, = plt.plot(logell, logCell + logell, 'r.', markersize=msize)\n",
    "d2, = plt.plot(logell_ps, logCell_ps + logell, 'bs', markersize=msize-5)\n",
    "d3, = plt.plot(logell_pO, logCell_pO + logell, 'gD', markersize=msize-4)\n",
    "\n",
    "f1, = plt.plot(logell, quadratic(logell, *popt), 'r-')\n",
    "f2, = plt.plot(logell_ps, quadratic_c(logell_ps, *popt_ps_A), 'b--')\n",
    "f3, = plt.plot(logell_pO, quadratic_u0(logell_pO, *popt_pO_x0), 'g:')\n",
    "\n",
    "#plt.plot(logell_ps, quadratic(logell_ps, *popt_ps), 'b--')\n",
    "#plt.plot(logell_pO, quadratic(logell_pO, *popt_pO), 'g--')\n",
    "\n",
    "plot_data  = [d1, d2, d3]\n",
    "label_data = ['Original data', 'Larger amplitude', 'Larger tilt']\n",
    "leg_data   = plt.legend(plot_data, label_data, loc=1)\n",
    "\n",
    "plot_fit  = [f1, f2, f3]\n",
    "label_fit = ['3-param. fit to orig. data', 'Free amplitude fit', 'Free tilt fit']\n",
    "leg_fit   = plt.legend(plot_fit, label_fit, loc=3)\n",
    "\n",
    "plt.gca().add_artist(leg_data)\n",
    "\n",
    "text_x = plt.xlabel('$\\log \\ell$')\n",
    "text_y = plt.ylabel('$\\log(\\ell C_\\ell)$')"
   ]
  },
  {
   "cell_type": "markdown",
   "metadata": {},
   "source": [
    "### Covariance"
   ]
  },
  {
   "cell_type": "markdown",
   "metadata": {},
   "source": [
    "#### Parameter and constants"
   ]
  },
  {
   "cell_type": "code",
   "execution_count": 30,
   "metadata": {
    "collapsed": true
   },
   "outputs": [],
   "source": [
    "from astropy import units\n",
    "sigma_eps  = 0.22\n",
    "nbar       = 30\n",
    "nbar_amin2 = units.Unit('{}/arcmin**2'.format(nbar))\n",
    "nbar_rad2  = nbar_amin2.to('1/rad**2')\n",
    "f_sky           = 0.3636"
   ]
  },
  {
   "cell_type": "markdown",
   "metadata": {},
   "source": [
    "#### Total power spectrum, including shot-/shape-noise term"
   ]
  },
  {
   "cell_type": "code",
   "execution_count": 31,
   "metadata": {
    "collapsed": true
   },
   "outputs": [],
   "source": [
    "C_ell_tot = 10**logCell + sigma_eps**2 / (2 * nbar_rad2)"
   ]
  },
  {
   "cell_type": "code",
   "execution_count": 32,
   "metadata": {
    "collapsed": true
   },
   "outputs": [],
   "source": [
    "ell = 10**logell"
   ]
  },
  {
   "cell_type": "markdown",
   "metadata": {},
   "source": [
    "#### Bin width $\\Delta_\\ell$ when $\\ell$ are logarithmic, and thus $\\Delta \\ln \\ell = \\Delta \\ell / \\ell$ = const"
   ]
  },
  {
   "cell_type": "code",
   "execution_count": 33,
   "metadata": {
    "collapsed": true
   },
   "outputs": [],
   "source": [
    "Delta_ln_ell = np.diff(ell) / (ell[:-1]/2 + ell[1:]/2)\n",
    "Delta_ln_ell = np.append(Delta_ln_ell, Delta_ln_ell[-1])\n",
    "Delta_ell = Delta_ln_ell * ell\n",
    "Delta_ln_ell_bar = Delta_ln_ell.mean()"
   ]
  },
  {
   "cell_type": "markdown",
   "metadata": {},
   "source": [
    "#### Gaussian covariance"
   ]
  },
  {
   "cell_type": "code",
   "execution_count": 68,
   "metadata": {},
   "outputs": [
    {
     "data": {
      "text/plain": [
       "array([  6.17732573e-17,   3.09827823e-17,   1.41512179e-17,\n",
       "         5.84805529e-18,   2.19010601e-18,   7.54549084e-19,\n",
       "         2.44292071e-19,   7.51585961e-20,   2.16726452e-20,\n",
       "         5.85113927e-21,   1.56240752e-21,   4.25350205e-22,\n",
       "         1.19023612e-22,   3.48116579e-23,   1.05938119e-23,\n",
       "         3.31184406e-24,   1.04799770e-24,   3.32223412e-25,\n",
       "         1.05395456e-25,   3.38222082e-26,   1.12250068e-26,\n",
       "         3.96520026e-27,   1.52965640e-27,   6.51855737e-28,\n",
       "         3.04663399e-28])"
      ]
     },
     "execution_count": 68,
     "metadata": {},
     "output_type": "execute_result"
    }
   ],
   "source": [
    "D = 1.0 / (f_sky * (2.0 * ell + 1) * Delta_ln_ell_bar * ell) * C_ell_tot**2\n",
    "D"
   ]
  },
  {
   "cell_type": "markdown",
   "metadata": {},
   "source": [
    "#### Approximation of $D$"
   ]
  },
  {
   "cell_type": "code",
   "execution_count": 35,
   "metadata": {
    "collapsed": true
   },
   "outputs": [],
   "source": [
    "A = 1/(2 * f_sky * Delta_ln_ell_bar)\n",
    "B = sigma_eps**2 / (2 * nbar_rad2)\n",
    "D2 = A / ell**2 * (10**quadratic(logell, *popt) / ell + B)**2"
   ]
  },
  {
   "cell_type": "markdown",
   "metadata": {},
   "source": [
    "#### Read from file, created by ABC run"
   ]
  },
  {
   "cell_type": "code",
   "execution_count": 55,
   "metadata": {
    "collapsed": true
   },
   "outputs": [],
   "source": [
    "Dinv = np.loadtxt('cov_true_inv_diag.txt')"
   ]
  },
  {
   "cell_type": "code",
   "execution_count": 57,
   "metadata": {},
   "outputs": [
    {
     "data": {
      "image/png": "[encoded data removed]",
      "text/plain": [
       "<matplotlib.figure.Figure at 0x113bc4128>"
      ]
     },
     "metadata": {},
     "output_type": "display_data"
    }
   ],
   "source": [
    "d1, = plt.plot(logell, np.log10(D))\n",
    "d2, = plt.plot(logell, np.log10(D2))\n",
    "d3, = plt.plot(logell, np.log10(1/Dinv))\n",
    "\n",
    "plot_data  = [d1, d2, d3]\n",
    "label_data = ['Original cov', 'Approx. cov', 'ABC run cov']\n",
    "leg_data   = plt.legend(plot_data, label_data, loc=1)\n",
    "\n",
    "leg = plt.gca().add_artist(leg_data)"
   ]
  },
  {
   "cell_type": "code",
   "execution_count": 70,
   "metadata": {},
   "outputs": [
    {
     "data": {
      "text/plain": [
       "array([  9.91636845e-17,   3.71198276e-17,   1.35642479e-17,\n",
       "         4.83896306e-18,   1.68545860e-18,   5.73262161e-19,\n",
       "         1.90434141e-19,   6.18042435e-20,   1.96045260e-20,\n",
       "         6.08171485e-21,   1.84680228e-21,   5.49700411e-22,\n",
       "         1.60697946e-22,   4.62769000e-23,   1.31854896e-23,\n",
       "         3.74103812e-24,   1.06666345e-24,   3.09494339e-25,\n",
       "         9.28709234e-26,   2.93683769e-26,   9.97237242e-27,\n",
       "         3.68877883e-27,   1.49500665e-27,   6.60934683e-28,\n",
       "         3.14764833e-28])"
      ]
     },
     "execution_count": 70,
     "metadata": {},
     "output_type": "execute_result"
    }
   ],
   "source": [
    "D2"
   ]
  },
  {
   "cell_type": "code",
   "execution_count": 71,
   "metadata": {},
   "outputs": [
    {
     "data": {
      "text/plain": [
       "array([ 0.82708472,  0.306     , -0.17586216])"
      ]
     },
     "execution_count": 71,
     "metadata": {},
     "output_type": "execute_result"
    }
   ],
   "source": [
    "popt"
   ]
  },
  {
   "cell_type": "code",
   "execution_count": 40,
   "metadata": {
    "collapsed": true
   },
   "outputs": [],
   "source": [
    "B = sigma_eps**2 / (2 * nbar_rad2) "
   ]
  },
  {
   "cell_type": "code",
   "execution_count": 77,
   "metadata": {},
   "outputs": [
    {
     "data": {
      "text/plain": [
       "0.121203420277384"
      ]
     },
     "execution_count": 77,
     "metadata": {},
     "output_type": "execute_result"
    }
   ],
   "source": [
    "5000. / (np.pi*4 * 180**2 / np.pi**2)"
   ]
  },
  {
   "cell_type": "code",
   "execution_count": null,
   "metadata": {
    "collapsed": true
   },
   "outputs": [],
   "source": []
  }
 ],
 "metadata": {
  "kernelspec": {
   "display_name": "Python 2",
   "language": "python",
   "name": "python2"
  },
  "language_info": {
   "codemirror_mode": {
    "name": "ipython",
    "version": 2
   },
   "file_extension": ".py",
   "mimetype": "text/x-python",
   "name": "python",
   "nbconvert_exporter": "python",
   "pygments_lexer": "ipython2",
   "version": "2.7.14"
  }
 },
 "nbformat": 4,
 "nbformat_minor": 1
}
