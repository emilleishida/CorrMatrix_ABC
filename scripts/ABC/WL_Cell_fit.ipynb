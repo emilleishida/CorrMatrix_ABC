{
 "cells": [
  {
   "cell_type": "code",
   "execution_count": 3,
   "metadata": {
    "collapsed": true
   },
   "outputs": [],
   "source": [
    "from os import environ\n",
    "import numpy as np\n",
    "import pylab as plt"
   ]
  },
  {
   "cell_type": "code",
   "execution_count": 4,
   "metadata": {
    "collapsed": true
   },
   "outputs": [],
   "source": [
    "%matplotlib inline"
   ]
  },
  {
   "cell_type": "code",
   "execution_count": 5,
   "metadata": {
    "collapsed": true
   },
   "outputs": [],
   "source": [
    "basedir = '{}/astro/papers/cs_review/figures/dlogP_dlogp'.format(environ['HOME'])"
   ]
  },
  {
   "cell_type": "code",
   "execution_count": 6,
   "metadata": {
    "collapsed": true
   },
   "outputs": [],
   "source": [
    "def read_Cell(path, ell_min, ell_max):\n",
    "    \"\"\"Read P_kappa file and return log_10(ell), log_10(C_ell) within ell-range\n",
    "    \"\"\"\n",
    "    \n",
    "    pk = np.loadtxt(path)\n",
    "    ell  = pk[:,0]\n",
    "    Cell = pk[:,1] / (ell * (ell+1) / (2 * np.pi))\n",
    "\n",
    "    ran     = (ell>=ell_min) & (ell<=ell_max)\n",
    "    \n",
    "    return np.log10(ell[ran]), np.log10(Cell[ran])"
   ]
  },
  {
   "cell_type": "code",
   "execution_count": 7,
   "metadata": {
    "collapsed": true
   },
   "outputs": [],
   "source": [
    "ell_min = 10\n",
    "ell_max = 1e4"
   ]
  },
  {
   "cell_type": "markdown",
   "metadata": {},
   "source": [
    "### Fiducial cosmological parameters"
   ]
  },
  {
   "cell_type": "code",
   "execution_count": 8,
   "metadata": {
    "collapsed": true
   },
   "outputs": [],
   "source": [
    "s8_fid = 0.827"
   ]
  },
  {
   "cell_type": "markdown",
   "metadata": {},
   "source": [
    "## Standard power spectrum"
   ]
  },
  {
   "cell_type": "code",
   "execution_count": 9,
   "metadata": {
    "collapsed": true
   },
   "outputs": [],
   "source": [
    "logell, logCell = read_Cell('{}/P_kappa'.format(basedir), ell_min, ell_max)"
   ]
  },
  {
   "cell_type": "code",
   "execution_count": 68,
   "metadata": {},
   "outputs": [
    {
     "data": {
      "image/png": "[encoded data removed]",
      "text/plain": [
       "<matplotlib.figure.Figure at 0x1158c95c0>"
      ]
     },
     "metadata": {},
     "output_type": "display_data"
    }
   ],
   "source": [
    "p = plt.plot(logell, logCell)"
   ]
  },
  {
   "cell_type": "markdown",
   "metadata": {},
   "source": [
    "## Fitting functions"
   ]
  },
  {
   "cell_type": "code",
   "execution_count": 69,
   "metadata": {
    "collapsed": true
   },
   "outputs": [],
   "source": [
    "from scipy.optimize import curve_fit"
   ]
  },
  {
   "cell_type": "code",
   "execution_count": 70,
   "metadata": {
    "collapsed": true
   },
   "outputs": [],
   "source": [
    "def add(amp):\n",
    "    \"\"\"Return the additive constant of the quadratic function\n",
    "       from the amplitude fitting parameter\n",
    "       (mimics power-spectrum normalisation s8)\n",
    "    \"\"\"\n",
    "    \n",
    "    # This provides a best-fit amp=0.827, but the 10% increased\n",
    "    # spectrum (0.9097) gives a best-fit of 0.925\n",
    "    # Changing the prefactor of amp or lg(amp) does not help...\n",
    "    \n",
    "    c = np.log10(amp)*2 - 6.11568527 + 0.1649\n",
    "    \n",
    "    return c"
   ]
  },
  {
   "cell_type": "code",
   "execution_count": 71,
   "metadata": {
    "collapsed": true
   },
   "outputs": [],
   "source": [
    "def shift(tilt):\n",
    "    \"\"\"Return the shift parameter of the quadratic function\n",
    "       from the tilt parameter (mimics matter density)\n",
    "    \"\"\"\n",
    "    \n",
    "    x0 = tilt * 1.85132114 / 0.306\n",
    "    \n",
    "    return x0"
   ]
  },
  {
   "cell_type": "code",
   "execution_count": 72,
   "metadata": {
    "collapsed": true
   },
   "outputs": [],
   "source": [
    "def quadratic(x, *params):\n",
    "    \"\"\"Used to fit quadratic function varying all three parameters\n",
    "    \"\"\"\n",
    "    \n",
    "    (amp, tilt, a) = np.array(params)\n",
    "    c  = add(amp)\n",
    "    x0 = shift(tilt)\n",
    "    \n",
    "    return c + a * (x - x0)**2"
   ]
  },
  {
   "cell_type": "code",
   "execution_count": 73,
   "metadata": {
    "collapsed": true
   },
   "outputs": [],
   "source": [
    "def quadratic_c(x, *params):\n",
    "    \"\"\"Used to fit quadratic function varying constant coefficient only\n",
    "    \"\"\"\n",
    "    (amp) = np.array(params)\n",
    "    c  = add(amp)\n",
    "    x0 = shift(tilt_glob)\n",
    "    \n",
    "    return c + a_glob * (x - x0)**2"
   ]
  },
  {
   "cell_type": "code",
   "execution_count": 74,
   "metadata": {
    "collapsed": true
   },
   "outputs": [],
   "source": [
    "def quadratic_x0(x, *params):\n",
    "    \"\"\"Used to fit quadratic function varying shift parameter only\n",
    "    \"\"\"\n",
    "    (tilt) = np.array(params)\n",
    "    c = add(amp_glob)\n",
    "    x0 = shift(tilt)\n",
    "    \n",
    "    return c + a_glob * (x - x0)**2"
   ]
  },
  {
   "cell_type": "markdown",
   "metadata": {},
   "source": [
    "## Fitting"
   ]
  },
  {
   "cell_type": "markdown",
   "metadata": {},
   "source": [
    "### Fit standard power spectrum"
   ]
  },
  {
   "cell_type": "code",
   "execution_count": 75,
   "metadata": {
    "collapsed": true
   },
   "outputs": [],
   "source": [
    "p0 = [1, 0, 0]\n",
    "popt, pcov = curve_fit(quadratic, logell, logCell + logell, p0)"
   ]
  },
  {
   "cell_type": "code",
   "execution_count": 76,
   "metadata": {},
   "outputs": [
    {
     "data": {
      "text/plain": [
       "array([ 0.82708472,  0.306     , -0.17586216])"
      ]
     },
     "execution_count": 76,
     "metadata": {},
     "output_type": "execute_result"
    }
   ],
   "source": [
    "popt"
   ]
  },
  {
   "cell_type": "code",
   "execution_count": 92,
   "metadata": {},
   "outputs": [
    {
     "data": {
      "image/png": "[encoded data removed]",
      "text/plain": [
       "<matplotlib.figure.Figure at 0x11b405fd0>"
      ]
     },
     "metadata": {},
     "output_type": "display_data"
    }
   ],
   "source": [
    "plot_1 = plt.plot(logell, logCell + logell, 'r.', label='Data')\n",
    "plt.plot(logell, quadratic(logell, *popt), 'r-', label='quadratic fit')\n",
    "plt.legend()\n",
    "xl_1   = plt.xlabel('$\\log \\ell$')\n",
    "yl_1   = plt.ylabel('$\\log [\\ell \\, C(\\ell)]$')"
   ]
  },
  {
   "cell_type": "markdown",
   "metadata": {},
   "source": [
    "### Fit standard power spectrum with higher amplitude (small-scale normalization $\\sigma_8$)"
   ]
  },
  {
   "cell_type": "markdown",
   "metadata": {},
   "source": [
    "#### Fit by varying all coefficients"
   ]
  },
  {
   "cell_type": "code",
   "execution_count": 93,
   "metadata": {
    "collapsed": true
   },
   "outputs": [],
   "source": [
    "logell_ps, logCell_ps = read_Cell('{}/normalization+dp/P_kappa'.format(basedir), ell_min, ell_max)"
   ]
  },
  {
   "cell_type": "code",
   "execution_count": 94,
   "metadata": {
    "collapsed": true
   },
   "outputs": [],
   "source": [
    "p0 = [1, 0, 0]\n",
    "popt_ps, pcov_ps = curve_fit(quadratic, logell_ps, logCell_ps + logell_ps, p0)"
   ]
  },
  {
   "cell_type": "code",
   "execution_count": 95,
   "metadata": {},
   "outputs": [
    {
     "data": {
      "text/plain": [
       "array([ 0.9254462 ,  0.31677232, -0.18913766])"
      ]
     },
     "execution_count": 95,
     "metadata": {},
     "output_type": "execute_result"
    }
   ],
   "source": [
    "popt_ps"
   ]
  },
  {
   "cell_type": "markdown",
   "metadata": {},
   "source": [
    "#### Fit by only varying amplitude"
   ]
  },
  {
   "cell_type": "code",
   "execution_count": 96,
   "metadata": {
    "collapsed": true
   },
   "outputs": [],
   "source": [
    "tilt_glob, a_glob  = popt[1], popt[2]\n",
    "p0  = [1]\n",
    "popt_ps_A, pcov_ps_A = curve_fit(quadratic_c, logell_ps, logCell_ps + logell_ps, p0)"
   ]
  },
  {
   "cell_type": "code",
   "execution_count": 97,
   "metadata": {},
   "outputs": [
    {
     "data": {
      "text/plain": [
       "array([ 0.92487861])"
      ]
     },
     "execution_count": 97,
     "metadata": {},
     "output_type": "execute_result"
    }
   ],
   "source": [
    "popt_ps_A"
   ]
  },
  {
   "cell_type": "markdown",
   "metadata": {},
   "source": [
    "### Fit standard power spectrum with higher matter density $\\Omega_{\\rm m}$ (tilt and amplitude parameter)"
   ]
  },
  {
   "cell_type": "markdown",
   "metadata": {},
   "source": [
    "#### Fit by varying all parameters"
   ]
  },
  {
   "cell_type": "code",
   "execution_count": 98,
   "metadata": {
    "collapsed": true
   },
   "outputs": [],
   "source": [
    "logell_pO, logCell_pO = read_Cell('{}/Omega_m+dp/P_kappa'.format(basedir), ell_min, ell_max)"
   ]
  },
  {
   "cell_type": "code",
   "execution_count": 99,
   "metadata": {
    "collapsed": true
   },
   "outputs": [],
   "source": [
    "p0 = [1, 0, 0]\n",
    "popt_pO, pcov_pO = curve_fit(quadratic, logell_pO, logCell_pO + logell_pO, p0)"
   ]
  },
  {
   "cell_type": "code",
   "execution_count": 100,
   "metadata": {},
   "outputs": [
    {
     "data": {
      "text/plain": [
       "array([ 0.87065394,  0.32647783, -0.19338417])"
      ]
     },
     "execution_count": 100,
     "metadata": {},
     "output_type": "execute_result"
    }
   ],
   "source": [
    "popt_pO"
   ]
  },
  {
   "cell_type": "markdown",
   "metadata": {},
   "source": [
    "#### Fit by varying only shift parameter"
   ]
  },
  {
   "cell_type": "code",
   "execution_count": 101,
   "metadata": {
    "collapsed": true
   },
   "outputs": [],
   "source": [
    "amp_glob, a_glob  = popt[0], popt[2]\n",
    "p0  = [0]\n",
    "popt_pO_x0, pcov_pO_x0 = curve_fit(quadratic_x0, logell_pO, logCell_pO + logell_pO, p0)"
   ]
  },
  {
   "cell_type": "code",
   "execution_count": 102,
   "metadata": {},
   "outputs": [
    {
     "data": {
      "text/plain": [
       "array([ 0.326074])"
      ]
     },
     "execution_count": 102,
     "metadata": {},
     "output_type": "execute_result"
    }
   ],
   "source": [
    "popt_pO_x0"
   ]
  },
  {
   "cell_type": "code",
   "execution_count": 133,
   "metadata": {},
   "outputs": [
    {
     "data": {
      "image/png": "[encoded data removed]",
      "text/plain": [
       "<matplotlib.figure.Figure at 0x11bb469b0>"
      ]
     },
     "metadata": {},
     "output_type": "display_data"
    }
   ],
   "source": [
    "\n",
    "d1, = plt.plot(logell, logCell + logell, 'r.')\n",
    "d2, = plt.plot(logell_ps, logCell_ps + logell, 'b.')\n",
    "d3, = plt.plot(logell_pO, logCell_pO + logell, 'g.')\n",
    "\n",
    "f1, = plt.plot(logell, quadratic(logell, *popt), 'r-')\n",
    "f2, = plt.plot(logell_ps, quadratic_c(logell_ps, *popt_ps_A), 'b:')\n",
    "f3, = plt.plot(logell_pO, quadratic_x0(logell_pO, *popt_pO_x0), 'g:')\n",
    "\n",
    "plt.plot(logell_ps, quadratic(logell_ps, *popt_ps), 'b--')\n",
    "plt.plot(logell_pO, quadratic(logell_pO, *popt_pO), 'g--')\n",
    "\n",
    "plot_data  = [d1, d2, d3]\n",
    "label_data = ['Original data', 'Larger amplitude', 'Larger tilt']\n",
    "leg_data   = plt.legend(plot_data, label_data, loc=1)\n",
    "\n",
    "plot_fit  = [f1, f2, f3]\n",
    "label_fit = ['3-parameter fit', 'Amplitude fit', 'Tilt fit']\n",
    "leg_fit   = plt.legend(plot_fit, label_fit, loc=3)\n",
    "\n",
    "plt.gca().add_artist(leg_data)\n",
    "\n",
    "text_x = plt.xlabel('$\\log \\ell$')\n",
    "text_y = plt.ylabel('$\\log(\\ell C_\\ell)$')"
   ]
  },
  {
   "cell_type": "code",
   "execution_count": 134,
   "metadata": {},
   "outputs": [
    {
     "data": {
      "text/plain": [
       "(0.82708472453304704, 0.827)"
      ]
     },
     "execution_count": 134,
     "metadata": {},
     "output_type": "execute_result"
    }
   ],
   "source": [
    "popt[0], s8_fid"
   ]
  },
  {
   "cell_type": "code",
   "execution_count": 139,
   "metadata": {},
   "outputs": [
    {
     "data": {
      "text/plain": [
       "array([ 0.326074])"
      ]
     },
     "execution_count": 139,
     "metadata": {},
     "output_type": "execute_result"
    }
   ],
   "source": [
    "popt_pO_x0"
   ]
  },
  {
   "cell_type": "code",
   "execution_count": 623,
   "metadata": {},
   "outputs": [
    {
     "data": {
      "text/plain": [
       "1.1"
      ]
     },
     "execution_count": 623,
     "metadata": {},
     "output_type": "execute_result"
    }
   ],
   "source": [
    "0.9097/s8_fid"
   ]
  },
  {
   "cell_type": "code",
   "execution_count": null,
   "metadata": {
    "collapsed": true
   },
   "outputs": [],
   "source": []
  },
  {
   "cell_type": "code",
   "execution_count": null,
   "metadata": {
    "collapsed": true
   },
   "outputs": [],
   "source": []
  }
 ],
 "metadata": {
  "kernelspec": {
   "display_name": "Python 3",
   "language": "python",
   "name": "python3"
  },
  "language_info": {
   "codemirror_mode": {
    "name": "ipython",
    "version": 3
   },
   "file_extension": ".py",
   "mimetype": "text/x-python",
   "name": "python",
   "nbconvert_exporter": "python",
   "pygments_lexer": "ipython3",
   "version": "3.6.3"
  }
 },
 "nbformat": 4,
 "nbformat_minor": 1
}
