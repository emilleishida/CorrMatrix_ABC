{
 "cells": [
  {
   "cell_type": "markdown",
   "metadata": {},
   "source": [
    "# Wishart distribution tests\n",
    "    \n",
    "See https://github.com/scipy/scipy/blob/master/scipy/stats/_multivariate.py\n",
    "\n",
    "Note: The mean of the Wishart distribution $W_p(\\Sigma, \\nu)$\n",
    "is $\\nu \\Sigma$, not $\\Sigma$ as stated in eq. (17) of TJK13."
   ]
  },
  {
   "cell_type": "code",
   "execution_count": 80,
   "metadata": {},
   "outputs": [],
   "source": [
    "import scipy.stats._multivariate as mv\n",
    "import numpy as np\n",
    "import matplotlib.pylab as plt"
   ]
  },
  {
   "cell_type": "markdown",
   "metadata": {},
   "source": [
    "## The following is an alternative definition of a Wishart random variable."
   ]
  },
  {
   "cell_type": "markdown",
   "metadata": {},
   "source": [
    "## Covariance and precision matrix."
   ]
  },
  {
   "cell_type": "code",
   "execution_count": 81,
   "metadata": {},
   "outputs": [],
   "source": [
    "# Dimension of data vector, p in the paper\n",
    "n_D = 10"
   ]
  },
  {
   "cell_type": "code",
   "execution_count": 82,
   "metadata": {},
   "outputs": [],
   "source": [
    "# Variance = diagonal of the covariance matrix\n",
    "sig2 = 1"
   ]
  },
  {
   "cell_type": "code",
   "execution_count": 83,
   "metadata": {},
   "outputs": [],
   "source": [
    "cov     = np.diag([sig2 for i in range(n_D)])\n",
    "cov_inv = np.diag([1/sig2 for i in range(n_D)])"
   ]
  },
  {
   "cell_type": "code",
   "execution_count": 84,
   "metadata": {},
   "outputs": [],
   "source": [
    "def alpha(n_S, n_D):\n",
    "    \"\"\"Returns alpha, debiasing factor for inverse covariance\"\"\"\n",
    "    \n",
    "    return (n_S - n_D - 2) / (n_S - 1)"
   ]
  },
  {
   "cell_type": "code",
   "execution_count": 85,
   "metadata": {},
   "outputs": [],
   "source": [
    "a_n_S = []\n",
    "a_trN_est = []\n",
    "a_trN_m1_est = []\n",
    "a_trN_m1_est2 = []\n",
    "\n",
    "for n_S in range(n_D+5, 50, 1):\n",
    "    W = mv.wishart(df=n_S-1, scale=cov)\n",
    "    \n",
    "    # The mean of a Wishart distribution in 1D is nu. Therefore,\n",
    "    # we need to divide by nu=n_S-1 (?)\n",
    "    cov_est = W.rvs() / (n_S-1)\n",
    "    \n",
    "    ## Covariance matrix\n",
    "    \n",
    "    # The division by n_D is to get the normalised trace.\n",
    "    trN_est = np.trace(cov_est) / n_D\n",
    "            \n",
    "    ## Precision matrix 1: numerically invert covariance\n",
    "    cov_est_inv = np.linalg.inv(cov_est)\n",
    "    trN_m1_est = np.trace(cov_est_inv) / n_D\n",
    "        \n",
    "    ## Precision matrix 2: sample from inverse Wishart distribution\n",
    "    Wm1 = mv.invwishart(df=n_S-1, scale=cov_inv)\n",
    "    cov_est_inv2 = Wm1.rvs()\n",
    "    trN_m1_est2 = np.trace(cov_est_inv2) * n_S / n_D\n",
    "        \n",
    "    a_n_S.append(n_S)\n",
    "    a_trN_est.append(trN_est)\n",
    "    a_trN_m1_est.append(trN_m1_est)\n",
    "    a_trN_m1_est2.append(trN_m1_est2)"
   ]
  },
  {
   "cell_type": "code",
   "execution_count": 86,
   "metadata": {},
   "outputs": [
    {
     "data": {
      "image/png": "[encoded data removed]",
      "text/plain": [
       "<Figure size 432x288 with 1 Axes>"
      ]
     },
     "metadata": {
      "needs_background": "light"
     },
     "output_type": "display_data"
    }
   ],
   "source": [
    "plt.plot(a_n_S, a_trN_est, '.', a_n_S, [sig2 for n_S in a_n_S])\n",
    "plt.xlabel('$n_S$')\n",
    "plt.ylabel('normalised trace')\n",
    "plt.title('covariance matrix')\n",
    "plt.show()"
   ]
  },
  {
   "cell_type": "code",
   "execution_count": 87,
   "metadata": {},
   "outputs": [
    {
     "data": {
      "image/png": "[encoded data removed]",
      "text/plain": [
       "<Figure size 432x288 with 1 Axes>"
      ]
     },
     "metadata": {
      "needs_background": "light"
     },
     "output_type": "display_data"
    }
   ],
   "source": [
    "plt.plot(a_n_S, a_trN_m1_est, '.', \\\n",
    "         a_n_S, a_trN_m1_est2, '.', \\\n",
    "         a_n_S, [1/alpha(n_S, n_D) / sig2 for n_S in a_n_S])\n",
    "plt.xlabel('$n_S$')\n",
    "plt.ylabel('normalised trace')\n",
    "plt.title('precision matrix')\n",
    "plt.show()"
   ]
  },
  {
   "cell_type": "markdown",
   "metadata": {},
   "source": [
    "## Plotting the Wishart distribution."
   ]
  },
  {
   "cell_type": "code",
   "execution_count": 88,
   "metadata": {},
   "outputs": [],
   "source": [
    "from scipy.stats import multivariate_normal"
   ]
  },
  {
   "cell_type": "code",
   "execution_count": 10,
   "metadata": {},
   "outputs": [],
   "source": [
    "def get_cov_ML(cov, size):\n",
    "\n",
    "    n_D = cov.shape[0]\n",
    "    y2 = multivariate_normal.rvs(mean=np.zeros(n_D), cov=cov, size=size)\n",
    "    # y2[:,j] = realisations for j-th data entry\n",
    "    # y2[i,:] = data vector for i-th realisation\n",
    "\n",
    "    # Calculate covariance matrix via np\n",
    "    cov_est = np.cov(y2, rowvar=False)\n",
    "    return cov_est"
   ]
  },
  {
   "cell_type": "code",
   "execution_count": 128,
   "metadata": {},
   "outputs": [],
   "source": [
    "n_S = 20\n",
    "n_R = 1000\n",
    "i=0\n",
    "j=0\n",
    "# Correction of scale matrix (true covariance) to match ML cov estimate\n",
    "cov_c = cov / (n_S - 1)"
   ]
  },
  {
   "cell_type": "code",
   "execution_count": 129,
   "metadata": {},
   "outputs": [],
   "source": [
    "W = mv.wishart(df=n_S-1, scale=cov_c)\n",
    "wij = []\n",
    "for r in range(n_R):\n",
    "    w = W.rvs()\n",
    "    wij.append(w[i][j])"
   ]
  },
  {
   "cell_type": "code",
   "execution_count": 130,
   "metadata": {},
   "outputs": [],
   "source": [
    "cij = []\n",
    "for r in range(n_R):\n",
    "    c = get_cov_ML(cov, n_S) \n",
    "    cij.append(c[i][j])"
   ]
  },
  {
   "cell_type": "code",
   "execution_count": 131,
   "metadata": {},
   "outputs": [
    {
     "data": {
      "image/png": "[encoded data removed]",
      "text/plain": [
       "<Figure size 432x288 with 1 Axes>"
      ]
     },
     "metadata": {
      "needs_background": "light"
     },
     "output_type": "display_data"
    }
   ],
   "source": [
    "if n_S > n_D:\n",
    "    plt.hist(wij, bins=25, histtype='step', color='b')\n",
    "plt.hist(cij, bins=25, histtype='step', color='g')\n",
    "plt.show()"
   ]
  },
  {
   "cell_type": "markdown",
   "metadata": {},
   "source": [
    "### Comparing mean and variance"
   ]
  },
  {
   "cell_type": "markdown",
   "metadata": {},
   "source": [
    "The mean of the Wishart distribution ${\\cal W}_p\\left(S, \\nu\\right)$ with $p \\times p$ scale matrix $S$ and degrees of freedom $\\nu$ is\n",
    "\n",
    "$\\langle \\hat S \\rangle = \\nu S$.\n",
    "\n",
    "The mean of the inverse Wishart distribution ${\\cal W}_p^{-1}\\left(T, \\nu\\right)$ is\n",
    "\n",
    "$\\langle \\hat T \\rangle = (\\nu - p - 1)^{-1} T$.\n",
    "\n",
    "The covariance matrix $\\hat C$ as estimated from $n_{\\rm s} = \\nu + 1$ Gaussian random fields with true covariance matrix $C$ follows the distribution ${\\cal W}_p(S = \\nu^{-1} \\, C, \\nu)$.\n",
    "\n",
    "The inverse of this estimated covariance, $\\hat \\psi = {\\hat C}^{-1}$, has a biased mean,\n",
    "\n",
    "$\\alpha^{-1} C^{-1} = (\\nu - p - 1)^{-1} \\nu \\, C^{-1}$.\n",
    "\n",
    "It follows the inverse Wishart distribution ${\\cal W}_p^{-1}\\left( T = \\nu \\, C^{-1}, \\nu\\right)$.\n",
    "\n",
    "\n",
    "The variance of the Wishart distribution is (on the diagonal)\n",
    "\n",
    "$\\langle (\\Delta \\hat S_{ii})^2 \\rangle = 2 \\nu S_{ii}^2 = 2 \\nu^{-1} \\, C_{ii}^2.$\n",
    "\n",
    "\n",
    "The variance of the inverse Wishart distribution is (on the diagonal)\n",
    "\n",
    "$(\\Delta \\hat T_{ii})^2 = 2 (\\nu - p -3)^{-1} (\\nu - p - 1)^{-2} \\, T_{ii}^2 = 2 (\\nu - p -3)^{-1} (\\nu - p - 1)^{-2} \\nu^2 \\, C_{ii}^{-2} = 2 (\\nu - p -3)^{-1} \\, \\alpha^{-2} \\, C_{ii}^{-2} = 2 \\beta \\, \\alpha^{-2} \\, (\\nu - p) \\, C_{ii}^{-2},$\n",
    "\n",
    "where in the last step we use\n",
    "\n",
    "$\\beta = (\\nu - p)^{-1} (\\nu - p -3)^{-1}.$"
   ]
  },
  {
   "cell_type": "code",
   "execution_count": 132,
   "metadata": {},
   "outputs": [
    {
     "name": "stdout",
     "output_type": "stream",
     "text": [
      "1.0 1.0116335365532392 0.9908196478955394\n",
      "0.10526315789473684 0.1129979065008507 0.10066853794988614\n"
     ]
    }
   ],
   "source": [
    "mean_true = cov[i][j] / (n_S - 1) * (n_S - 1)\n",
    "var_true   = (cov[i][j]**2 + cov[i][i]*cov[j][j]) / (n_S - 1)\n",
    "if n_S > n_D:\n",
    "    mean_wij  = np.mean(wij)\n",
    "    var_wij   = np.var(wij)\n",
    "else:\n",
    "    mean_wij = 'undef'\n",
    "    var_wij  = 'undef'\n",
    "mean_cij  = np.mean(cij)\n",
    "var_cij   = np.var(cij)\n",
    "print(mean_true, mean_wij, mean_cij)\n",
    "print(var_true, var_wij, var_cij)"
   ]
  },
  {
   "cell_type": "markdown",
   "metadata": {},
   "source": [
    "## Plot of mean and variance as function of n_S"
   ]
  },
  {
   "cell_type": "code",
   "execution_count": 133,
   "metadata": {},
   "outputs": [],
   "source": [
    "n_S_arr = []\n",
    "for n_S in range(2, n_D, 1):\n",
    "    n_S_arr.append(n_S)\n",
    "for n_S in range(n_D, 2*n_D, 2):\n",
    "    n_S_arr.append(n_S)\n",
    "for n_S in range(2*n_D, 5*n_D, 10):\n",
    "    n_S_arr.append(n_S)\n",
    "for n_S in range(5*n_D, 20*n_D, 20):\n",
    "    n_S_arr.append(n_S)"
   ]
  },
  {
   "cell_type": "markdown",
   "metadata": {},
   "source": [
    "### Numerical mean and variance"
   ]
  },
  {
   "cell_type": "code",
   "execution_count": 134,
   "metadata": {},
   "outputs": [],
   "source": [
    "var_c   = []\n",
    "var_w   = []\n",
    "mask_w  = []\n",
    "for n_S in n_S_arr:\n",
    "    \n",
    "    cij = []\n",
    "    for r in range(n_R):\n",
    "        c = get_cov_ML(cov, n_S) \n",
    "        cij.append(c[i][j])\n",
    "        \n",
    "    wij = []    \n",
    "    if n_S > n_D:\n",
    "        W = mv.wishart(df=n_S-1, scale=cov / (n_S - 1))\n",
    "        for r in range(n_R):\n",
    "            w = W.rvs()\n",
    "            wij.append(w[i][j])\n",
    "            \n",
    "    var_c.append(np.var(cij))\n",
    "    \n",
    "    if n_S > n_D:\n",
    "        var_w.append(np.var(wij))\n",
    "        mask_w.append(0)\n",
    "    else:\n",
    "        var_w.append(-1)\n",
    "        mask_w.append(1)\n",
    "        \n",
    "var_mw  = np.ma.masked_array(var_w, mask=mask_w)"
   ]
  },
  {
   "cell_type": "markdown",
   "metadata": {},
   "source": [
    "### Numerical variance of inverse covariance"
   ]
  },
  {
   "cell_type": "code",
   "execution_count": 135,
   "metadata": {},
   "outputs": [],
   "source": [
    "var_inv_c     = []\n",
    "var_inv_deb_c = []\n",
    "var_inv_w     = []\n",
    "mask_c = []\n",
    "mask_w  = []\n",
    "for n_S in n_S_arr:\n",
    "    \n",
    "    if n_S > n_D:\n",
    "        cij = []\n",
    "        cij_deb = []\n",
    "        for r in range(n_R):\n",
    "            c = get_cov_ML(cov, n_S)\n",
    "            # No de-biasing here\n",
    "            psi = np.linalg.inv(c)\n",
    "            cij.append(psi[i][j])\n",
    "            cij_deb.append(psi[i][j] * alpha(n_S, n_D))\n",
    "\n",
    "        var_inv_c.append(np.var(cij))\n",
    "        var_inv_deb_c.append(np.var(cij_deb))\n",
    "        mask_c.append(0)\n",
    "    else:\n",
    "        var_inv_c.append(-1)\n",
    "        var_inv_deb_c.append(-1)\n",
    "        mask_c.append(1)\n",
    "        \n",
    "    df = n_S - 1\n",
    "    if df > n_D:\n",
    "        wij = []\n",
    "        W = mv.invwishart(df=df, scale=cov_inv * (n_S - 1))\n",
    "        for r in range(n_R):\n",
    "            w = W.rvs()\n",
    "            wij.append(w[i][j])\n",
    "    \n",
    "        var_inv_w.append(np.var(wij))\n",
    "        mask_w.append(0)  \n",
    "    else:\n",
    "        var_inv_w.append(-1)\n",
    "        mask_w.append(1)\n",
    "        \n",
    "var_inv_mc  = np.ma.masked_array(var_inv_c, mask=mask_c)\n",
    "var_inv_deb_mc = np.ma.masked_array(var_inv_deb_c, mask=mask_c)\n",
    "var_inv_mw  = np.ma.masked_array(var_inv_w, mask=mask_w)"
   ]
  },
  {
   "cell_type": "markdown",
   "metadata": {},
   "source": [
    "### True variance"
   ]
  },
  {
   "cell_type": "code",
   "execution_count": 136,
   "metadata": {},
   "outputs": [],
   "source": [
    "var_tr  = []\n",
    "n_S_fine = np.arange(n_S_arr[0], n_S_arr[-1], len(n_S_arr)/100.0)\n",
    "for n_S in n_S_fine:\n",
    "    var_tr.append(1/(n_S - 1) * (cov[i][j]**2 + cov[i][i]*cov[j][j]))"
   ]
  },
  {
   "cell_type": "markdown",
   "metadata": {},
   "source": [
    "### True variance of inverse covariance"
   ]
  },
  {
   "cell_type": "code",
   "execution_count": 137,
   "metadata": {},
   "outputs": [],
   "source": [
    "var_inv_tr  = []\n",
    "var_inv_deb_tr = []\n",
    "mask = []\n",
    "for n_S in n_S_fine:\n",
    "    if n_S > n_D + 4:\n",
    "        vi = 1 / alpha(n_S, n_D)**2 * (\n",
    "            (n_S - n_D) * cov_inv[i][j]**2 + (n_S - n_D - 2) * cov_inv[i][i] * cov_inv[j][j]\n",
    "        ) / ( (n_S - n_D - 1) * (n_S - n_D - 4) )\n",
    "        var_inv_tr.append(vi)\n",
    "        var_inv_deb_tr.append(vi * alpha(n_S, n_D)**2)\n",
    "        mask.append(0)\n",
    "    else:\n",
    "        var_inv_tr.append(-1)\n",
    "        var_inv_deb_tr.append(-1)\n",
    "        mask.append(1)\n",
    "var_inv_trw  = np.ma.masked_array(var_inv_tr, mask=mask)\n",
    "var_inv_deb_trw  = np.ma.masked_array(var_inv_deb_tr, mask=mask)"
   ]
  },
  {
   "cell_type": "code",
   "execution_count": 138,
   "metadata": {},
   "outputs": [],
   "source": [
    "import matplotlib as mpl\n",
    "\n",
    "mpl.rcParams['font.size'] = 14"
   ]
  },
  {
   "cell_type": "code",
   "execution_count": 139,
   "metadata": {},
   "outputs": [
    {
     "data": {
      "image/png": "[encoded data removed]",
      "text/plain": [
       "<Figure size 360x360 with 1 Axes>"
      ]
     },
     "metadata": {
      "needs_background": "light"
     },
     "output_type": "display_data"
    }
   ],
   "source": [
    "plt.figure(figsize=(5,5))\n",
    "ax = plt.subplot(1, 1, 1)\n",
    "\n",
    "plt.plot(n_S_arr, var_mw, 'go')\n",
    "plt.plot(n_S_arr, var_c, 'go', mfc='none')\n",
    "plt.plot(n_S_fine, var_tr, 'g-', \\\n",
    "         label=rf'$\\mathrm{{\\mathbb{{E}}}}(\\hat{{C}}_{{{i+1}{j+1}}} - C_{{{i+1}{j+1}}})^2$')\n",
    "\n",
    "plt.plot(n_S_arr, var_inv_mw, 'bs', markersize=5)\n",
    "plt.plot(n_S_arr, var_inv_mc, 'bs', mfc='none', markersize=5)\n",
    "plt.plot(n_S_fine, var_inv_trw, 'b--', \\\n",
    "         label=rf'$\\mathrm{{\\mathbb{{E}}}}(\\hat{{\\Psi}}_{{\\ast {i+1}{j+1}}} - \\Psi_{{\\ast {i+1}{j+1}}})^2$')\n",
    "\n",
    "plt.plot(n_S_arr, var_inv_deb_mc, 'rs', mfc='none', markersize=5)\n",
    "plt.plot(n_S_fine, var_inv_deb_trw, 'r-.', \\\n",
    "         label=rf'$\\mathrm{{\\mathbb{{E}}}}(\\hat{{\\Psi}}_{{{i+1}{j+1}}} - \\Psi_{{{i+1}{j+1}}})^2$')\n",
    "\n",
    "ax.set_xscale('log')\n",
    "ax.set_yscale('log')\n",
    "\n",
    "plt.xlim(1, 30*n_D)\n",
    "plt.ylim(5e-3, 1e3)\n",
    "ylim = plt.ylim()\n",
    "plt.legend(loc='upper right', fontsize=12, handlelength=1.2)\n",
    "\n",
    "plt.xlabel('$n_{\\\\rm s} = \\\\nu + 1$')\n",
    "plt.ylabel('variance')\n",
    "\n",
    "plt.plot([n_D, n_D], ylim, 'g:', linewidth=1)\n",
    "plt.plot([n_D+4, n_D+4], ylim, ':', color='purple', linewidth=1)\n",
    "\n",
    "plt.savefig('W.pdf', bbox_inches='tight')\n",
    "plt.show()"
   ]
  },
  {
   "cell_type": "code",
   "execution_count": 140,
   "metadata": {},
   "outputs": [
    {
     "name": "stderr",
     "output_type": "stream",
     "text": [
      "/home/mkilbing/.local/lib/python3.9/site-packages/numpy/core/shape_base.py:65: UserWarning: Warning: converting a masked element to nan.\n",
      "  ary = asanyarray(ary)\n"
     ]
    },
    {
     "data": {
      "image/png": "[encoded data removed]",
      "text/plain": [
       "<Figure size 360x360 with 1 Axes>"
      ]
     },
     "metadata": {
      "needs_background": "light"
     },
     "output_type": "display_data"
    }
   ],
   "source": [
    "plt.figure(figsize=(5,5))\n",
    "ratio = [y/x for (x, y) in zip(var_tr, var_inv_trw)]\n",
    "plt.plot(n_S_fine, ratio, 'g', label='ratio')\n",
    "ratio_deb = [y/x for (x,y) in zip(var_tr, var_inv_deb_trw)]\n",
    "plt.plot(n_S_fine, ratio_deb, 'm', label='ratio deb')\n",
    "plt.plot([n_D+3, n_D+3], ylim, ':', linewidth=1)\n",
    "ax = plt.subplot(1, 1, 1)\n",
    "ax.set_yscale('log')\n",
    "plt.ylim(1, 10)\n",
    "plt.xlabel('$n_{\\\\rm s} = \\\\nu + 1$')\n",
    "plt.ylabel('variance ratio')\n",
    "plt.show()"
   ]
  },
  {
   "cell_type": "code",
   "execution_count": null,
   "metadata": {},
   "outputs": [],
   "source": []
  }
 ],
 "metadata": {
  "kernelspec": {
   "display_name": "Python 3 (ipykernel)",
   "language": "python",
   "name": "python3"
  },
  "language_info": {
   "codemirror_mode": {
    "name": "ipython",
    "version": 3
   },
   "file_extension": ".py",
   "mimetype": "text/x-python",
   "name": "python",
   "nbconvert_exporter": "python",
   "pygments_lexer": "ipython3",
   "version": "3.9.7"
  }
 },
 "nbformat": 4,
 "nbformat_minor": 4
}
