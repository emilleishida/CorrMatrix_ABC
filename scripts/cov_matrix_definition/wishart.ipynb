{
 "cells": [
  {
   "cell_type": "markdown",
   "metadata": {},
   "source": [
    "# Wishart distribution tests\n",
    "    \n",
    "See https://github.com/scipy/scipy/blob/master/scipy/stats/_multivariate.py\n",
    "\n",
    "Note: The mean of the Wishart distribution $W_p(\\Sigma, \\nu)$\n",
    "is $\\nu \\Sigma$, not $\\Sigma$ as stated in eq. (17) of TJK13."
   ]
  },
  {
   "cell_type": "code",
   "execution_count": 2,
   "metadata": {
    "collapsed": true
   },
   "outputs": [],
   "source": [
    "import scipy.stats._multivariate as mv"
   ]
  },
  {
   "cell_type": "markdown",
   "metadata": {},
   "source": [
    "## The following is an alternative definition of a Wishart random variable."
   ]
  },
  {
   "cell_type": "code",
   "execution_count": 3,
   "metadata": {
    "collapsed": true
   },
   "outputs": [],
   "source": [
    "W = mv.wishart_gen()"
   ]
  },
  {
   "cell_type": "code",
   "execution_count": 4,
   "metadata": {},
   "outputs": [
    {
     "data": {
      "text/plain": [
       "3"
      ]
     },
     "execution_count": 4,
     "metadata": {},
     "output_type": "execute_result"
    }
   ],
   "source": [
    "df = 3; scale = [[1,0], [0,2]];\n",
    "df"
   ]
  },
  {
   "cell_type": "code",
   "execution_count": 5,
   "metadata": {},
   "outputs": [
    {
     "data": {
      "text/plain": [
       "array([[ 2.20448364,  1.72988444],\n",
       "       [ 1.72988444,  6.35840882]])"
      ]
     },
     "execution_count": 5,
     "metadata": {},
     "output_type": "execute_result"
    }
   ],
   "source": [
    "W.rvs(df, scale)"
   ]
  },
  {
   "cell_type": "markdown",
   "metadata": {},
   "source": [
    "## Covariance and precision matrix."
   ]
  },
  {
   "cell_type": "code",
   "execution_count": 10,
   "metadata": {
    "collapsed": true
   },
   "outputs": [],
   "source": [
    "n_D = 10"
   ]
  },
  {
   "cell_type": "code",
   "execution_count": 11,
   "metadata": {
    "collapsed": true
   },
   "outputs": [],
   "source": [
    "sig2 = 1"
   ]
  },
  {
   "cell_type": "code",
   "execution_count": 12,
   "metadata": {
    "collapsed": true
   },
   "outputs": [],
   "source": [
    "cov     = np.diag([sig2 for i in range(n_D)])\n",
    "cov_inv = np.diag([1/sig2 for i in range(n_D)])"
   ]
  },
  {
   "cell_type": "code",
   "execution_count": 13,
   "metadata": {
    "collapsed": true
   },
   "outputs": [],
   "source": [
    "a_n_S = []\n",
    "a_trN_est = []\n",
    "a_trN_m1_est = []\n",
    "a_trN_m1_est2 = []\n",
    "\n",
    "for n_S in range(n_D+5, 50, 1):\n",
    "    W = mv.wishart(df=n_S-1, scale=cov)\n",
    "    \n",
    "    # The mean of a Wishart distribution in 1D is nu. Therefore,\n",
    "    # we need to divide by nu=n_S-1 (?)\n",
    "    cov_est = W.rvs() / (n_S-1)\n",
    "    \n",
    "    ## Covariance matrix\n",
    "    \n",
    "    # The division by n_D is to get the normalised trace.\n",
    "    trN_est = np.trace(cov_est) / n_D\n",
    "            \n",
    "    ## Precision matrix 1: numerically invert covariance\n",
    "    cov_est_inv = np.linalg.inv(cov_est)\n",
    "    trN_m1_est = np.trace(cov_est_inv) / n_D\n",
    "        \n",
    "    ## Precision matrix 2: sample from inverse Wishart distribution\n",
    "    Wm1 = mv.invwishart(df=n_S-1, scale=cov_inv)\n",
    "    cov_est_inv2 = Wm1.rvs()\n",
    "    trN_m1_est2 = np.trace(cov_est_inv2) * n_S / n_D\n",
    "    \n",
    "    # The bias of the inverse is 1/alpha. In other words, multiply with alpha\n",
    "    # for unbiased estimate\n",
    "    alpha = (n_S - n_D - 2) / (n_S - 1)\n",
    "    #print(n_S, trN_est, sig2, '   ', trN_m1_est, trN_m1_est2, 1 / alpha / sig2, 1/sig2)\n",
    "    \n",
    "    a_n_S.append(n_S)\n",
    "    a_trN_est.append(trN_est)\n",
    "    a_trN_m1_est.append(trN_m1_est)\n",
    "    a_trN_m1_est2.append(trN_m1_est2)"
   ]
  },
  {
   "cell_type": "code",
   "execution_count": 14,
   "metadata": {},
   "outputs": [
    {
     "data": {
      "image/png": "[encoded data removed]",
      "text/plain": [
       "<matplotlib.figure.Figure at 0x111a854a8>"
      ]
     },
     "metadata": {},
     "output_type": "display_data"
    }
   ],
   "source": [
    "plt.plot(a_n_S, a_trN_est, '.', a_n_S, [sig2 for n_S in a_n_S])\n",
    "plt.xlabel('$n_S$')\n",
    "plt.ylabel('normalised trace')\n",
    "plt.title('covariance matrix')\n",
    "plt.show()"
   ]
  },
  {
   "cell_type": "code",
   "execution_count": 15,
   "metadata": {},
   "outputs": [
    {
     "data": {
      "image/png": "[encoded data removed]",
      "text/plain": [
       "<matplotlib.figure.Figure at 0x116e23518>"
      ]
     },
     "metadata": {},
     "output_type": "display_data"
    }
   ],
   "source": [
    "plt.plot(a_n_S, a_trN_m1_est, '.', \\\n",
    "         a_n_S, a_trN_m1_est2, '.', \\\n",
    "         a_n_S, [(n_S - 1) / (n_S - n_D - 2) / sig2 for n_S in a_n_S])\n",
    "plt.xlabel('$n_S$')\n",
    "plt.ylabel('normalised trace')\n",
    "plt.title('precision matrix')\n",
    "plt.show()"
   ]
  },
  {
   "cell_type": "markdown",
   "metadata": {
    "collapsed": true
   },
   "source": [
    "## Plotting the Wishart distribution."
   ]
  },
  {
   "cell_type": "code",
   "execution_count": 16,
   "metadata": {
    "collapsed": true
   },
   "outputs": [],
   "source": [
    "from scipy.stats import multivariate_normal"
   ]
  },
  {
   "cell_type": "code",
   "execution_count": 17,
   "metadata": {
    "collapsed": true
   },
   "outputs": [],
   "source": [
    "def get_cov_ML(cov, size):\n",
    "\n",
    "    n_D = cov.shape[0]\n",
    "    y2 = multivariate_normal.rvs(mean=np.zeros(n_D), cov=cov, size=size)\n",
    "    # y2[:,j] = realisations for j-th data entry\n",
    "    # y2[i,:] = data vector for i-th realisation\n",
    "\n",
    "    # Calculate covariance matrix via np\n",
    "    cov_est = np.cov(y2, rowvar=False)\n",
    "    return cov_est\n"
   ]
  },
  {
   "cell_type": "code",
   "execution_count": 18,
   "metadata": {},
   "outputs": [],
   "source": [
    "n_S = 20\n",
    "n_R = 1000\n",
    "i=0\n",
    "j=0\n",
    "# Correction of scale matrix (true covariance) to match ML cov estimate\n",
    "cov_c = cov / (n_S - 1)"
   ]
  },
  {
   "cell_type": "code",
   "execution_count": 19,
   "metadata": {
    "collapsed": true
   },
   "outputs": [],
   "source": [
    "W = mv.wishart(df=n_S-1, scale=cov_c)\n",
    "wij = []\n",
    "for r in range(n_R):\n",
    "    w = W.rvs()\n",
    "    wij.append(w[i][j])"
   ]
  },
  {
   "cell_type": "code",
   "execution_count": 20,
   "metadata": {
    "collapsed": true
   },
   "outputs": [],
   "source": [
    "cij = []\n",
    "for r in range(n_R):\n",
    "    c = get_cov_ML(cov, n_S) \n",
    "    cij.append(c[i][j])"
   ]
  },
  {
   "cell_type": "code",
   "execution_count": 21,
   "metadata": {},
   "outputs": [
    {
     "data": {
      "image/png": "[encoded data removed]",
      "text/plain": [
       "<matplotlib.figure.Figure at 0x1176c70b8>"
      ]
     },
     "metadata": {},
     "output_type": "display_data"
    }
   ],
   "source": [
    "if n_S > n_D:\n",
    "    plt.hist(wij, bins=25, histtype='step', color='b')\n",
    "plt.hist(cij, bins=25, histtype='step', color='g')\n",
    "plt.show()"
   ]
  },
  {
   "cell_type": "markdown",
   "metadata": {},
   "source": [
    "### Comparing mean and variance"
   ]
  },
  {
   "cell_type": "markdown",
   "metadata": {},
   "source": [
    "The mean of the Wishart distribution ${\\cal W}_p\\left(S, \\nu\\right)$ with $p \\times p$ scale matrix $S$ and degrees of freedom $\\nu$ is\n",
    "\n",
    "$\\langle \\hat S \\rangle = \\nu S$.\n",
    "\n",
    "The mean of the inverse Wishart distribution ${\\cal W}_p^{-1}\\left(T, \\nu\\right)$ is\n",
    "\n",
    "$\\langle \\hat T \\rangle = (\\nu - p - 1)^{-1} T$.\n",
    "\n",
    "The covariance matrix $\\hat C$ as estimated from $n_{\\rm s} = \\nu + 1$ Gaussian random fields with true covariance matrix $C$ follows the distribution ${\\cal W}_p(S = \\nu^{-1} \\, C, \\nu)$.\n",
    "\n",
    "The inverse of this estimated covariance, $\\hat \\psi = {\\hat C}^{-1}$, has a biased mean,\n",
    "\n",
    "$\\alpha^{-1} C^{-1} = (\\nu - p - 1)^{-1} \\nu \\, C^{-1}$.\n",
    "\n",
    "It follows the inverse Wishart distribution ${\\cal W}_p^{-1}\\left( T = \\nu \\, C^{-1}, \\nu\\right)$.\n",
    "\n",
    "\n",
    "The variance of the Wishart distribution is (on the diagonal)\n",
    "\n",
    "$\\langle (\\Delta \\hat S_{ii})^2 \\rangle = 2 \\nu S_{ii}^2 = 2 \\nu^{-1} \\, C_{ii}^2.$\n",
    "\n",
    "\n",
    "The variance of the inverse Wishart distribution is (on the diagonal)\n",
    "\n",
    "$(\\Delta \\hat T_{ii})^2 = 2 (\\nu - p -3)^{-1} (\\nu - p - 1)^{-2} \\, T_{ii}^2 = 2 (\\nu - p -3)^{-1} (\\nu - p - 1)^{-2} \\nu^2 \\, C_{ii}^{-2} = 2 (\\nu - p -3)^{-1} \\, \\alpha^{-2} \\, C_{ii}^{-2} = 2 \\beta \\, \\alpha^{-2} \\, (\\nu - p) \\, C_{ii}^{-2},$\n",
    "\n",
    "where in the last step we use\n",
    "\n",
    "$\\beta = (\\nu - p)^{-1} (\\nu - p -3)^{-1},$\n",
    "\n",
    "as defined in the paper (eq. 17).\n",
    "\n",
    "This result corresponds to eq. (16) in the paper, with an additional $\\alpha^{-2}$ that is added in (23).\n"
   ]
  },
  {
   "cell_type": "code",
   "execution_count": 22,
   "metadata": {},
   "outputs": [
    {
     "name": "stdout",
     "output_type": "stream",
     "text": [
      "1.0 1.01860879725 1.00180321525\n",
      "0.105263157895 0.100602332331 0.107237649586\n"
     ]
    }
   ],
   "source": [
    "mean_true = cov[i][j] / (n_S - 1) * (n_S - 1)\n",
    "var_true   = (cov[i][j]**2 + cov[i][i]*cov[j][j]) / (n_S - 1)\n",
    "if n_S > n_D:\n",
    "    mean_wij  = np.mean(wij)\n",
    "    var_wij   = np.var(wij)\n",
    "else:\n",
    "    mean_wij = 'undef'\n",
    "    var_wij  = 'undef'\n",
    "mean_cij  = np.mean(cij)\n",
    "var_cij   = np.var(cij)\n",
    "print(mean_true, mean_wij, mean_cij)\n",
    "print(var_true, var_wij, var_cij)"
   ]
  },
  {
   "cell_type": "markdown",
   "metadata": {},
   "source": [
    "## Plot of mean and variance as function of n_S"
   ]
  },
  {
   "cell_type": "code",
   "execution_count": 23,
   "metadata": {
    "collapsed": true
   },
   "outputs": [],
   "source": [
    "n_S_arr = []\n",
    "for n_S in range(2, n_D, 1):\n",
    "    n_S_arr.append(n_S)\n",
    "for n_S in range(n_D, 2*n_D, 2):\n",
    "    n_S_arr.append(n_S)\n",
    "for n_S in range(2*n_D, 5*n_D, 10):\n",
    "    n_S_arr.append(n_S)\n",
    "for n_S in range(5*n_D, 20*n_D, 20):\n",
    "    n_S_arr.append(n_S)"
   ]
  },
  {
   "cell_type": "markdown",
   "metadata": {},
   "source": [
    "### Numerical mean and variance"
   ]
  },
  {
   "cell_type": "code",
   "execution_count": 24,
   "metadata": {
    "collapsed": true
   },
   "outputs": [],
   "source": [
    "var_c   = []\n",
    "var_w   = []\n",
    "mask_w  = []\n",
    "for n_S in n_S_arr:\n",
    "    \n",
    "    cij = []\n",
    "    for r in range(n_R):\n",
    "        c = get_cov_ML(cov, n_S) \n",
    "        cij.append(c[i][j])\n",
    "        \n",
    "    wij = []    \n",
    "    if n_S > n_D:\n",
    "        W = mv.wishart(df=n_S-1, scale=cov / (n_S - 1))\n",
    "        for r in range(n_R):\n",
    "            w = W.rvs()\n",
    "            wij.append(w[i][j])\n",
    "            \n",
    "    var_c.append(np.var(cij))\n",
    "    \n",
    "    if n_S > n_D:\n",
    "        var_w.append(np.var(wij))\n",
    "        mask_w.append(0)\n",
    "    else:\n",
    "        var_w.append(-1)\n",
    "        mask_w.append(1)\n",
    "        \n",
    "var_mw  = np.ma.masked_array(var_w, mask=mask_w)"
   ]
  },
  {
   "cell_type": "markdown",
   "metadata": {},
   "source": [
    "### Numerical variance of inverse covariance"
   ]
  },
  {
   "cell_type": "code",
   "execution_count": 25,
   "metadata": {},
   "outputs": [
    {
     "name": "stdout",
     "output_type": "stream",
     "text": [
      "[2.9704714209543344 1.9839717997959074 0.3243276652749006\n",
      " 0.14084542415938364]\n",
      "[3.1537175322788054 1.8553913418997483 0.3328655144184826\n",
      " 0.14557846755165543]\n"
     ]
    }
   ],
   "source": [
    "var_inv_c   = []\n",
    "var_inv_w   = []\n",
    "mask_c = []\n",
    "mask_w  = []\n",
    "for n_S in n_S_arr:\n",
    "    \n",
    "    if n_S > n_D:\n",
    "        cij = []\n",
    "        for r in range(n_R):\n",
    "            c = get_cov_ML(cov, n_S)\n",
    "            # No de-biasing here\n",
    "            psi = np.linalg.inv(c)\n",
    "            cij.append(psi[i][j])\n",
    "\n",
    "        var_inv_c.append(np.var(cij))\n",
    "        mask_c.append(0)\n",
    "    else:\n",
    "        var_inv_c.append(-1)\n",
    "        mask_c.append(1)\n",
    "        \n",
    "    #df = n_S - n_D - 2\n",
    "    df = n_S - 1\n",
    "    if df > n_D:\n",
    "        wij = []\n",
    "        W = mv.invwishart(df=df, scale=cov_inv * (n_S - 1))\n",
    "        for r in range(n_R):\n",
    "            w = W.rvs()\n",
    "            wij.append(w[i][j])\n",
    "    \n",
    "        var_inv_w.append(np.var(wij))\n",
    "        mask_w.append(0)  \n",
    "    else:\n",
    "        var_inv_w.append(-1)\n",
    "        mask_w.append(1)\n",
    "        \n",
    "var_inv_mc  = np.ma.masked_array(var_inv_c, mask=mask_c)\n",
    "var_inv_mw  = np.ma.masked_array(var_inv_w, mask=mask_w)\n",
    "print(var_inv_mc[12:16])\n",
    "print(var_inv_mw[12:16])"
   ]
  },
  {
   "cell_type": "markdown",
   "metadata": {},
   "source": [
    "### True variance"
   ]
  },
  {
   "cell_type": "code",
   "execution_count": 26,
   "metadata": {
    "collapsed": true
   },
   "outputs": [],
   "source": [
    "var_tr  = []\n",
    "n_S_fine = np.arange(n_S_arr[0], n_S_arr[-1], len(n_S_arr)/100.0)\n",
    "for n_S in n_S_fine:\n",
    "    var_tr.append(1/(n_S - 1) * (cov[i][j]**2 + cov[i][i]*cov[j][j]))"
   ]
  },
  {
   "cell_type": "markdown",
   "metadata": {},
   "source": [
    "### True variance of inverse covariance"
   ]
  },
  {
   "cell_type": "code",
   "execution_count": 27,
   "metadata": {
    "collapsed": true
   },
   "outputs": [],
   "source": [
    "var_inv_tr  = []\n",
    "mask = []\n",
    "for n_S in n_S_fine:\n",
    "    if n_S > n_D + 4:\n",
    "        var_inv_tr.append(2 / (n_S - n_D - 2)**2 / (n_S - n_D - 4) * (n_S - 1)**2 * cov_inv[i][i]**2)\n",
    "        mask.append(0)\n",
    "    else:\n",
    "        var_inv_tr.append(-1)\n",
    "        mask.append(1)\n",
    "var_inv_trw  = np.ma.masked_array(var_inv_tr, mask=mask)"
   ]
  },
  {
   "cell_type": "code",
   "execution_count": 42,
   "metadata": {},
   "outputs": [
    {
     "name": "stderr",
     "output_type": "stream",
     "text": [
      "/Users/mkilbing/anaconda3/lib/python3.6/site-packages/matplotlib/cbook/deprecation.py:106: MatplotlibDeprecationWarning: Adding an axes using the same arguments as a previous axes currently reuses the earlier instance.  In a future version, a new instance will always be created and returned.  Meanwhile, this warning can be suppressed, and the future behavior ensured, by passing a unique label to each axes instance.\n",
      "  warnings.warn(message, mplDeprecation, stacklevel=1)\n"
     ]
    },
    {
     "data": {
      "image/png": "[encoded data removed]",
      "text/plain": [
       "<matplotlib.figure.Figure at 0x11776f128>"
      ]
     },
     "metadata": {},
     "output_type": "display_data"
    }
   ],
   "source": [
    "plt.figure(figsize=(5,5))\n",
    "plt.plot(n_S_arr, var_mw, 'bo', mfc='none')\n",
    "plt.plot(n_S_arr, var_c, 'ro', mfc='none')\n",
    "plt.plot(n_S_fine, var_tr, 'g', label='${\\\\cal W}(\\\\nu^{-1} \\, C, \\\\nu)$')\n",
    "\n",
    "plt.plot(n_S_arr, var_inv_mw, 'bs', mfc='none')\n",
    "plt.plot(n_S_arr, var_inv_mc, 'rs', mfc='none')\n",
    "plt.plot(n_S_fine, var_inv_tr, 'g:', label='${\\\\cal W}^{-1}(\\\\nu \\, C^{-1}, \\\\nu)$')\n",
    "plt.xlabel('$n_{\\\\rm s} = \\\\nu + 1$')\n",
    "plt.ylabel('variance')\n",
    "ax = plt.subplot(1, 1, 1)\n",
    "ax.set_xscale('log')\n",
    "ax.set_yscale('log')\n",
    "plt.xlim(1, 20*n_D)\n",
    "plt.ylim(5e-3, 1e3)\n",
    "ylim = plt.ylim()\n",
    "plt.legend(loc='best')\n",
    "plt.plot([n_D, n_D], ylim, ':', linewidth=1)\n",
    "plt.plot([n_D+3, n_D+3], ylim, ':', linewidth=1)\n",
    "plt.axes().set_aspect('auto')\n",
    "plt.savefig('W.pdf')\n",
    "plt.show()"
   ]
  },
  {
   "cell_type": "code",
   "execution_count": 783,
   "metadata": {},
   "outputs": [
    {
     "data": {
      "text/plain": [
       "array([   2.  ,    2.24,    2.48,    2.72,    2.96,    3.2 ,    3.44,\n",
       "          3.68,    3.92,    4.16,    4.4 ,    4.64,    4.88,    5.12,\n",
       "          5.36,    5.6 ,    5.84,    6.08,    6.32,    6.56,    6.8 ,\n",
       "          7.04,    7.28,    7.52,    7.76,    8.  ,    8.24,    8.48,\n",
       "          8.72,    8.96,    9.2 ,    9.44,    9.68,    9.92,   10.16,\n",
       "         10.4 ,   10.64,   10.88,   11.12,   11.36,   11.6 ,   11.84,\n",
       "         12.08,   12.32,   12.56,   12.8 ,   13.04,   13.28,   13.52,\n",
       "         13.76,   14.  ,   14.24,   14.48,   14.72,   14.96,   15.2 ,\n",
       "         15.44,   15.68,   15.92,   16.16,   16.4 ,   16.64,   16.88,\n",
       "         17.12,   17.36,   17.6 ,   17.84,   18.08,   18.32,   18.56,\n",
       "         18.8 ,   19.04,   19.28,   19.52,   19.76,   20.  ,   20.24,\n",
       "         20.48,   20.72,   20.96,   21.2 ,   21.44,   21.68,   21.92,\n",
       "         22.16,   22.4 ,   22.64,   22.88,   23.12,   23.36,   23.6 ,\n",
       "         23.84,   24.08,   24.32,   24.56,   24.8 ,   25.04,   25.28,\n",
       "         25.52,   25.76,   26.  ,   26.24,   26.48,   26.72,   26.96,\n",
       "         27.2 ,   27.44,   27.68,   27.92,   28.16,   28.4 ,   28.64,\n",
       "         28.88,   29.12,   29.36,   29.6 ,   29.84,   30.08,   30.32,\n",
       "         30.56,   30.8 ,   31.04,   31.28,   31.52,   31.76,   32.  ,\n",
       "         32.24,   32.48,   32.72,   32.96,   33.2 ,   33.44,   33.68,\n",
       "         33.92,   34.16,   34.4 ,   34.64,   34.88,   35.12,   35.36,\n",
       "         35.6 ,   35.84,   36.08,   36.32,   36.56,   36.8 ,   37.04,\n",
       "         37.28,   37.52,   37.76,   38.  ,   38.24,   38.48,   38.72,\n",
       "         38.96,   39.2 ,   39.44,   39.68,   39.92,   40.16,   40.4 ,\n",
       "         40.64,   40.88,   41.12,   41.36,   41.6 ,   41.84,   42.08,\n",
       "         42.32,   42.56,   42.8 ,   43.04,   43.28,   43.52,   43.76,\n",
       "         44.  ,   44.24,   44.48,   44.72,   44.96,   45.2 ,   45.44,\n",
       "         45.68,   45.92,   46.16,   46.4 ,   46.64,   46.88,   47.12,\n",
       "         47.36,   47.6 ,   47.84,   48.08,   48.32,   48.56,   48.8 ,\n",
       "         49.04,   49.28,   49.52,   49.76,   50.  ,   50.24,   50.48,\n",
       "         50.72,   50.96,   51.2 ,   51.44,   51.68,   51.92,   52.16,\n",
       "         52.4 ,   52.64,   52.88,   53.12,   53.36,   53.6 ,   53.84,\n",
       "         54.08,   54.32,   54.56,   54.8 ,   55.04,   55.28,   55.52,\n",
       "         55.76,   56.  ,   56.24,   56.48,   56.72,   56.96,   57.2 ,\n",
       "         57.44,   57.68,   57.92,   58.16,   58.4 ,   58.64,   58.88,\n",
       "         59.12,   59.36,   59.6 ,   59.84,   60.08,   60.32,   60.56,\n",
       "         60.8 ,   61.04,   61.28,   61.52,   61.76,   62.  ,   62.24,\n",
       "         62.48,   62.72,   62.96,   63.2 ,   63.44,   63.68,   63.92,\n",
       "         64.16,   64.4 ,   64.64,   64.88,   65.12,   65.36,   65.6 ,\n",
       "         65.84,   66.08,   66.32,   66.56,   66.8 ,   67.04,   67.28,\n",
       "         67.52,   67.76,   68.  ,   68.24,   68.48,   68.72,   68.96,\n",
       "         69.2 ,   69.44,   69.68,   69.92,   70.16,   70.4 ,   70.64,\n",
       "         70.88,   71.12,   71.36,   71.6 ,   71.84,   72.08,   72.32,\n",
       "         72.56,   72.8 ,   73.04,   73.28,   73.52,   73.76,   74.  ,\n",
       "         74.24,   74.48,   74.72,   74.96,   75.2 ,   75.44,   75.68,\n",
       "         75.92,   76.16,   76.4 ,   76.64,   76.88,   77.12,   77.36,\n",
       "         77.6 ,   77.84,   78.08,   78.32,   78.56,   78.8 ,   79.04,\n",
       "         79.28,   79.52,   79.76,   80.  ,   80.24,   80.48,   80.72,\n",
       "         80.96,   81.2 ,   81.44,   81.68,   81.92,   82.16,   82.4 ,\n",
       "         82.64,   82.88,   83.12,   83.36,   83.6 ,   83.84,   84.08,\n",
       "         84.32,   84.56,   84.8 ,   85.04,   85.28,   85.52,   85.76,\n",
       "         86.  ,   86.24,   86.48,   86.72,   86.96,   87.2 ,   87.44,\n",
       "         87.68,   87.92,   88.16,   88.4 ,   88.64,   88.88,   89.12,\n",
       "         89.36,   89.6 ,   89.84,   90.08,   90.32,   90.56,   90.8 ,\n",
       "         91.04,   91.28,   91.52,   91.76,   92.  ,   92.24,   92.48,\n",
       "         92.72,   92.96,   93.2 ,   93.44,   93.68,   93.92,   94.16,\n",
       "         94.4 ,   94.64,   94.88,   95.12,   95.36,   95.6 ,   95.84,\n",
       "         96.08,   96.32,   96.56,   96.8 ,   97.04,   97.28,   97.52,\n",
       "         97.76,   98.  ,   98.24,   98.48,   98.72,   98.96,   99.2 ,\n",
       "         99.44,   99.68,   99.92,  100.16,  100.4 ,  100.64,  100.88,\n",
       "        101.12,  101.36,  101.6 ,  101.84,  102.08,  102.32,  102.56,\n",
       "        102.8 ,  103.04,  103.28,  103.52,  103.76,  104.  ,  104.24,\n",
       "        104.48,  104.72,  104.96,  105.2 ,  105.44,  105.68,  105.92,\n",
       "        106.16,  106.4 ,  106.64,  106.88,  107.12,  107.36,  107.6 ,\n",
       "        107.84,  108.08,  108.32,  108.56,  108.8 ,  109.04,  109.28,\n",
       "        109.52,  109.76,  110.  ,  110.24,  110.48,  110.72,  110.96,\n",
       "        111.2 ,  111.44,  111.68,  111.92,  112.16,  112.4 ,  112.64,\n",
       "        112.88,  113.12,  113.36,  113.6 ,  113.84,  114.08,  114.32,\n",
       "        114.56,  114.8 ,  115.04,  115.28,  115.52,  115.76,  116.  ,\n",
       "        116.24,  116.48,  116.72,  116.96,  117.2 ,  117.44,  117.68,\n",
       "        117.92,  118.16,  118.4 ,  118.64,  118.88,  119.12,  119.36,\n",
       "        119.6 ,  119.84,  120.08,  120.32,  120.56,  120.8 ,  121.04,\n",
       "        121.28,  121.52,  121.76,  122.  ,  122.24,  122.48,  122.72,\n",
       "        122.96,  123.2 ,  123.44,  123.68,  123.92,  124.16,  124.4 ,\n",
       "        124.64,  124.88,  125.12,  125.36,  125.6 ,  125.84,  126.08,\n",
       "        126.32,  126.56,  126.8 ,  127.04,  127.28,  127.52,  127.76,\n",
       "        128.  ,  128.24,  128.48,  128.72,  128.96,  129.2 ,  129.44,\n",
       "        129.68,  129.92,  130.16,  130.4 ,  130.64,  130.88,  131.12,\n",
       "        131.36,  131.6 ,  131.84,  132.08,  132.32,  132.56,  132.8 ,\n",
       "        133.04,  133.28,  133.52,  133.76,  134.  ,  134.24,  134.48,\n",
       "        134.72,  134.96,  135.2 ,  135.44,  135.68,  135.92,  136.16,\n",
       "        136.4 ,  136.64,  136.88,  137.12,  137.36,  137.6 ,  137.84,\n",
       "        138.08,  138.32,  138.56,  138.8 ,  139.04,  139.28,  139.52,\n",
       "        139.76,  140.  ,  140.24,  140.48,  140.72,  140.96,  141.2 ,\n",
       "        141.44,  141.68,  141.92,  142.16,  142.4 ,  142.64,  142.88,\n",
       "        143.12,  143.36,  143.6 ,  143.84,  144.08,  144.32,  144.56,\n",
       "        144.8 ,  145.04,  145.28,  145.52,  145.76,  146.  ,  146.24,\n",
       "        146.48,  146.72,  146.96,  147.2 ,  147.44,  147.68,  147.92,\n",
       "        148.16,  148.4 ,  148.64,  148.88,  149.12,  149.36,  149.6 ,\n",
       "        149.84,  150.08,  150.32,  150.56,  150.8 ,  151.04,  151.28,\n",
       "        151.52,  151.76,  152.  ,  152.24,  152.48,  152.72,  152.96,\n",
       "        153.2 ,  153.44,  153.68,  153.92,  154.16,  154.4 ,  154.64,\n",
       "        154.88,  155.12,  155.36,  155.6 ,  155.84,  156.08,  156.32,\n",
       "        156.56,  156.8 ,  157.04,  157.28,  157.52,  157.76,  158.  ,\n",
       "        158.24,  158.48,  158.72,  158.96,  159.2 ,  159.44,  159.68,\n",
       "        159.92,  160.16,  160.4 ,  160.64,  160.88,  161.12,  161.36,\n",
       "        161.6 ,  161.84,  162.08,  162.32,  162.56,  162.8 ,  163.04,\n",
       "        163.28,  163.52,  163.76,  164.  ,  164.24,  164.48,  164.72,\n",
       "        164.96,  165.2 ,  165.44,  165.68,  165.92,  166.16,  166.4 ,\n",
       "        166.64,  166.88,  167.12,  167.36,  167.6 ,  167.84,  168.08,\n",
       "        168.32,  168.56,  168.8 ,  169.04,  169.28,  169.52,  169.76,\n",
       "        170.  ,  170.24,  170.48,  170.72,  170.96,  171.2 ,  171.44,\n",
       "        171.68,  171.92,  172.16,  172.4 ,  172.64,  172.88,  173.12,\n",
       "        173.36,  173.6 ,  173.84,  174.08,  174.32,  174.56,  174.8 ,\n",
       "        175.04,  175.28,  175.52,  175.76,  176.  ,  176.24,  176.48,\n",
       "        176.72,  176.96,  177.2 ,  177.44,  177.68,  177.92,  178.16,\n",
       "        178.4 ,  178.64,  178.88,  179.12,  179.36,  179.6 ,  179.84,\n",
       "        180.08,  180.32,  180.56,  180.8 ,  181.04,  181.28,  181.52,\n",
       "        181.76,  182.  ,  182.24,  182.48,  182.72,  182.96,  183.2 ,\n",
       "        183.44,  183.68,  183.92,  184.16,  184.4 ,  184.64,  184.88,\n",
       "        185.12,  185.36,  185.6 ,  185.84,  186.08,  186.32,  186.56,\n",
       "        186.8 ,  187.04,  187.28,  187.52,  187.76,  188.  ,  188.24,\n",
       "        188.48,  188.72,  188.96,  189.2 ,  189.44,  189.68,  189.92])"
      ]
     },
     "execution_count": 783,
     "metadata": {},
     "output_type": "execute_result"
    }
   ],
   "source": [
    "n_S_fine"
   ]
  },
  {
   "cell_type": "code",
   "execution_count": null,
   "metadata": {
    "collapsed": true
   },
   "outputs": [],
   "source": []
  }
 ],
 "metadata": {
  "kernelspec": {
   "display_name": "Python 3",
   "language": "python",
   "name": "python3"
  },
  "language_info": {
   "codemirror_mode": {
    "name": "ipython",
    "version": 3
   },
   "file_extension": ".py",
   "mimetype": "text/x-python",
   "name": "python",
   "nbconvert_exporter": "python",
   "pygments_lexer": "ipython3",
   "version": "3.6.3"
  }
 },
 "nbformat": 4,
 "nbformat_minor": 2
}
